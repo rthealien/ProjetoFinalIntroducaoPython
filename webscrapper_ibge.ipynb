{
 "cells": [
  {
   "cell_type": "code",
   "execution_count": 74,
   "id": "68a0f221",
   "metadata": {},
   "outputs": [],
   "source": [
    "### Requisitos para o funcionamento do Notebook:\n",
    "\n",
    "# pip install selenium\n",
    "# pip install bs4\n",
    "# pip install requests\n",
    "# pip install pandas\n",
    "# pip install lxml\n",
    "# pip install unidecode\n",
    "# pip install tqdm\n",
    "\n",
    "# Fazer o download do Webdriver em: https://chromedriver.storage.googleapis.com/index.html?path=102.0.5005.61/\n",
    "# Colocar o arquivo chromedriver em um caminho de pastas sem espaços e preencher na variável driver_path\n",
    "\n",
    "### Referencias para o Webdriver\n",
    "# https://stackoverflow.com/questions/53973423/getting-value-after-button-click-with-beautifulsoup-python\n",
    "# https://chromedriver.chromium.org/getting-started\n",
    "# https://www.selenium.dev/documentation/webdriver/getting_started/first_script/\n",
    "# https://selenium-python.readthedocs.io/waits.html\n",
    "# https://www.tutorialspoint.com/get-html-source-of-webelement-in-selenium-webdriver-using-python\n",
    "\n",
    "### Referencias para o BeautifulSoup\n",
    "# https://beautiful-soup-4.readthedocs.io/en/latest/#quick-start\n",
    "# https://beautiful-soup-4.readthedocs.io/en/latest/#contents-and-children\n",
    "# https://stackoverflow.com/questions/8270092/remove-all-whitespace-in-a-string\n",
    "# https://beautiful-soup-4.readthedocs.io/en/latest/#installing-a-parser\n",
    "\n",
    "#Referencias sobre o Pandas\n",
    "# https://pandas.pydata.org/docs/reference/api/pandas.DataFrame.rename.html?highlight=rename#pandas.DataFrame.rename\n",
    "# https://pandas.pydata.org/docs/reference/api/pandas.DataFrame.join.html?highlight=join#pandas.DataFrame.join\n",
    "# https://stackoverflow.com/questions/25952790/convert-pandas-series-from-dtype-object-to-float-and-errors-to-nans\n",
    "\n",
    "### Referencias para o Regex\n",
    "# https://www.w3schools.com/python/python_regex.asp\n",
    "\n",
    "### Referencias para o tqdm\n",
    "# https://tqdm.github.io/\n",
    "\n",
    "### Referencias para o Unidecode\n",
    "# https://stackoverflow.com/questions/517923/what-is-the-best-way-to-remove-accents-normalize-in-a-python-unicode-string"
   ]
  },
  {
   "cell_type": "code",
   "execution_count": null,
   "id": "54a19e5b",
   "metadata": {},
   "outputs": [],
   "source": []
  },
  {
   "cell_type": "code",
   "execution_count": 1,
   "id": "1a215e3c",
   "metadata": {},
   "outputs": [],
   "source": [
    "from selenium import webdriver\n",
    "from selenium.webdriver.common.by import By\n",
    "#from selenium.webdriver.support.ui import WebDriverWait as wait # Não utilizado quando se usa o sleep.\n",
    "import warnings\n",
    "from time import sleep\n",
    "from bs4 import BeautifulSoup\n",
    "from requests import get\n",
    "import re\n",
    "import pandas as pd\n",
    "import unidecode # para retirar os acentos\n",
    "from tqdm import tqdm # para a barra de progresso\n",
    "import sqlite3 as sql\n",
    "from pathlib import Path"
   ]
  },
  {
   "cell_type": "code",
   "execution_count": 2,
   "id": "199fe9ee",
   "metadata": {},
   "outputs": [],
   "source": [
    "#Webdriver\n",
    "\n",
    "def abrirWebdriver():\n",
    "    warnings.filterwarnings('ignore')\n",
    "    driver_path = 'C:/ProjetoAplicado/chromedriver'\n",
    "    \n",
    "    print(\"Abrindo o Webdriver...\")\n",
    "    driver = webdriver.Chrome(driver_path)\n",
    "    \n",
    "    return driver\n",
    "\n",
    "def fecharWebdriver(driver):\n",
    "    warnings.filterwarnings('ignore')\n",
    "    \n",
    "    print(\"Fechando o Webdriver...\")\n",
    "    driver.quit()\n",
    "\n",
    "def obterSoupPorMunicipio(municipio, wait_in_seconds, driver):\n",
    "    warnings.filterwarnings('ignore')\n",
    "\n",
    "    #municipio = 'cabo-frio'\n",
    "    #wait_in_seconds = 20\n",
    "    url = 'https://cidades.ibge.gov.br/brasil/rj/'+municipio+'/panorama'\n",
    "    \n",
    "    print(\"Acessando a url...\")\n",
    "    driver.get(url)\n",
    "\n",
    "    print(\"Aguardando\",wait_in_seconds,\"segundos para o carregamento da página...\")\n",
    "    #driver.implicitly_wait(10)\n",
    "    #sleep(wait_in_seconds)\n",
    "    \n",
    "    for i in tqdm(range(wait_in_seconds)):\n",
    "        sleep(1)\n",
    "\n",
    "    print(\"Pegando o elemento principal pela classe...\")\n",
    "    elemento = driver.find_element(By.CLASS_NAME, \"lista\")\n",
    "    #print(elemento.get_attribute('innerHTML'))\n",
    "\n",
    "    print(\"Criando o Soup...\")\n",
    "    soup = BeautifulSoup(elemento.get_attribute('innerHTML'), 'html.parser')\n",
    "    \n",
    "    return soup"
   ]
  },
  {
   "cell_type": "code",
   "execution_count": 3,
   "id": "3f0960dd",
   "metadata": {},
   "outputs": [],
   "source": [
    "#BeautifulSoup\n",
    "\n",
    "def obterDicionarioDeIndicadores(soup):\n",
    "\n",
    "    print(\"Encontrando os elementos na página\")\n",
    "    indicadores = soup.find_all(\"tr\", class_=re.compile(\"lista__indi\"))\n",
    "\n",
    "    ind = []\n",
    "    values = []\n",
    "    flag_ind = True\n",
    "\n",
    "    print(\"Varrendo a árvore de elementos\")\n",
    "    for indicador in indicadores:\n",
    "        for child in indicador.contents:\n",
    "            if str(type(child)) == \"<class 'bs4.element.Tag'>\" and child.text != \"\":\n",
    "                text = \" \".join(child.text.strip().replace(\"\\n\",\" \").split())\n",
    "                #print(text)\n",
    "                if flag_ind:\n",
    "                    ind.append(text)\n",
    "                    flag_ind = False\n",
    "                    #print(\"Indicador encontrado:\",text)\n",
    "                else:\n",
    "                    text = re.sub(',','.',re.sub('\\.','',re.split(\"\\s\", text, 1)[0]))\n",
    "                    values.append(text)\n",
    "                    flag_ind = True\n",
    "    print(\"Foram encontrados\",len(ind),\"indicadores\")\n",
    "\n",
    "    print(\"Criando o Dicionário com os indicadores\")\n",
    "    dic = {\n",
    "        \"indicador\" : ind,\n",
    "        \"Valor\" : values\n",
    "    }\n",
    "    \n",
    "    return dic"
   ]
  },
  {
   "cell_type": "code",
   "execution_count": 5,
   "id": "d7fb54cc",
   "metadata": {},
   "outputs": [],
   "source": [
    "def obterParametroMunicipios():\n",
    "    print(\"Carregando Municipios do IBGE...\")\n",
    "    \n",
    "    url = 'https://ibge.gov.br/explica/codigos-dos-municipios.php'\n",
    "\n",
    "    municipios = pd.read_html(url, match='Municípios do Rio de Janeiro')[0]\n",
    "    \n",
    "    municipios[['parametro']] = municipios[['Municípios do Rio de Janeiro']]\n",
    "\n",
    "    municipios.parametro = municipios.parametro.str.lower().str.replace(' ','-')\n",
    "    \n",
    "    return municipios.parametro"
   ]
  },
  {
   "cell_type": "code",
   "execution_count": 3,
   "id": "137d985d",
   "metadata": {},
   "outputs": [
    {
     "name": "stdout",
     "output_type": "stream",
     "text": [
      "Banco de dados já existe\n"
     ]
    }
   ],
   "source": [
    "# Criação dos bancos de dados\n",
    "\n",
    "# Utiliza o mesmo endereço onde está o rodando o script\n",
    "Endereco = Path.cwd()\n",
    "\n",
    "BD = Endereco / 'projeto.db'\n",
    "\n",
    "if Endereco.exists():\n",
    "    if (BD.exists()):\n",
    "        print ('Banco de dados já existe')\n",
    "    else:\n",
    "        BD.touch()\n",
    "        print ('Banco de dados criado com sucesso')\n",
    "else:\n",
    "    print ('Endereço não existe')"
   ]
  },
  {
   "cell_type": "code",
   "execution_count": 12,
   "id": "799db8fa",
   "metadata": {},
   "outputs": [
    {
     "name": "stdout",
     "output_type": "stream",
     "text": [
      "Abrindo o Webdriver...\n",
      "Carregando Municipios do IBGE...\n",
      ">>>>>>>>>> angra-dos-reis\n",
      "Acessando a url...\n",
      "Aguardando 20 segundos para o carregamento da página...\n"
     ]
    },
    {
     "name": "stderr",
     "output_type": "stream",
     "text": [
      "100%|██████████████████████████████████████████████████████████████████████████████████| 20/20 [00:20<00:00,  1.01s/it]"
     ]
    },
    {
     "name": "stdout",
     "output_type": "stream",
     "text": [
      "Pegando o elemento principal pela classe...\n",
      "Criando o Soup...\n",
      "Encontrando os elementos na página\n",
      "Varrendo a árvore de elementos\n",
      "Foram encontrados 37 indicadores\n",
      "Criando o Dicionário com os indicadores\n"
     ]
    },
    {
     "name": "stderr",
     "output_type": "stream",
     "text": [
      "\n"
     ]
    }
   ],
   "source": [
    "driver = abrirWebdriver()\n",
    "\n",
    "municipio = obterParametroMunicipios()[0]\n",
    "\n",
    "print(\">>>>>>>>>>\", unidecode.unidecode(municipio))\n",
    "\n",
    "soup = obterSoupPorMunicipio(unidecode.unidecode(municipio),20,driver)\n",
    "\n",
    "dic = obterDicionarioDeIndicadores(soup)\n",
    "\n",
    "dfIndicadores = pd.DataFrame(dic)\n",
    "\n",
    "dfIndicadores['Valor'] = pd.to_numeric(dfIndicadores['Valor'], errors='coerce').astype('float64')\n",
    "    \n",
    "dfIndicadores = dfIndicadores.rename(columns={\"Valor\" : unidecode.unidecode(municipio)})\n"
   ]
  },
  {
   "cell_type": "code",
   "execution_count": 13,
   "id": "2dc879e1",
   "metadata": {},
   "outputs": [
    {
     "name": "stdout",
     "output_type": "stream",
     "text": [
      "Carregando Municipios do IBGE...\n",
      "\n",
      ">>>>>>>>>> aperibe\n",
      "Acessando a url...\n",
      "Aguardando 20 segundos para o carregamento da página...\n"
     ]
    },
    {
     "name": "stderr",
     "output_type": "stream",
     "text": [
      "100%|██████████████████████████████████████████████████████████████████████████████████| 20/20 [00:20<00:00,  1.01s/it]\n"
     ]
    },
    {
     "name": "stdout",
     "output_type": "stream",
     "text": [
      "Pegando o elemento principal pela classe...\n",
      "Criando o Soup...\n",
      "Encontrando os elementos na página\n",
      "Varrendo a árvore de elementos\n",
      "Foram encontrados 37 indicadores\n",
      "Criando o Dicionário com os indicadores\n",
      "\n",
      ">>>>>>>>>> araruama\n",
      "Acessando a url...\n",
      "Aguardando 20 segundos para o carregamento da página...\n"
     ]
    },
    {
     "name": "stderr",
     "output_type": "stream",
     "text": [
      "100%|██████████████████████████████████████████████████████████████████████████████████| 20/20 [00:20<00:00,  1.01s/it]\n"
     ]
    },
    {
     "name": "stdout",
     "output_type": "stream",
     "text": [
      "Pegando o elemento principal pela classe...\n",
      "Criando o Soup...\n",
      "Encontrando os elementos na página\n",
      "Varrendo a árvore de elementos\n",
      "Foram encontrados 37 indicadores\n",
      "Criando o Dicionário com os indicadores\n",
      "\n",
      ">>>>>>>>>> areal\n",
      "Acessando a url...\n",
      "Aguardando 20 segundos para o carregamento da página...\n"
     ]
    },
    {
     "name": "stderr",
     "output_type": "stream",
     "text": [
      "100%|██████████████████████████████████████████████████████████████████████████████████| 20/20 [00:20<00:00,  1.01s/it]\n"
     ]
    },
    {
     "name": "stdout",
     "output_type": "stream",
     "text": [
      "Pegando o elemento principal pela classe...\n",
      "Criando o Soup...\n",
      "Encontrando os elementos na página\n",
      "Varrendo a árvore de elementos\n",
      "Foram encontrados 37 indicadores\n",
      "Criando o Dicionário com os indicadores\n",
      "\n",
      ">>>>>>>>>> armacao-dos-buzios\n",
      "Acessando a url...\n",
      "Aguardando 20 segundos para o carregamento da página...\n"
     ]
    },
    {
     "name": "stderr",
     "output_type": "stream",
     "text": [
      "100%|██████████████████████████████████████████████████████████████████████████████████| 20/20 [00:20<00:00,  1.01s/it]\n"
     ]
    },
    {
     "name": "stdout",
     "output_type": "stream",
     "text": [
      "Pegando o elemento principal pela classe...\n",
      "Criando o Soup...\n",
      "Encontrando os elementos na página\n",
      "Varrendo a árvore de elementos\n",
      "Foram encontrados 37 indicadores\n",
      "Criando o Dicionário com os indicadores\n",
      "\n",
      ">>>>>>>>>> arraial-do-cabo\n",
      "Acessando a url...\n",
      "Aguardando 20 segundos para o carregamento da página...\n"
     ]
    },
    {
     "name": "stderr",
     "output_type": "stream",
     "text": [
      "100%|██████████████████████████████████████████████████████████████████████████████████| 20/20 [00:20<00:00,  1.01s/it]\n"
     ]
    },
    {
     "name": "stdout",
     "output_type": "stream",
     "text": [
      "Pegando o elemento principal pela classe...\n",
      "Criando o Soup...\n",
      "Encontrando os elementos na página\n",
      "Varrendo a árvore de elementos\n",
      "Foram encontrados 37 indicadores\n",
      "Criando o Dicionário com os indicadores\n",
      "\n",
      ">>>>>>>>>> barra-mansa\n",
      "Acessando a url...\n",
      "Aguardando 20 segundos para o carregamento da página...\n"
     ]
    },
    {
     "name": "stderr",
     "output_type": "stream",
     "text": [
      "100%|██████████████████████████████████████████████████████████████████████████████████| 20/20 [00:20<00:00,  1.01s/it]\n"
     ]
    },
    {
     "name": "stdout",
     "output_type": "stream",
     "text": [
      "Pegando o elemento principal pela classe...\n",
      "Criando o Soup...\n",
      "Encontrando os elementos na página\n",
      "Varrendo a árvore de elementos\n",
      "Foram encontrados 37 indicadores\n",
      "Criando o Dicionário com os indicadores\n",
      "\n",
      ">>>>>>>>>> barra-do-pirai\n",
      "Acessando a url...\n",
      "Aguardando 20 segundos para o carregamento da página...\n"
     ]
    },
    {
     "name": "stderr",
     "output_type": "stream",
     "text": [
      "100%|██████████████████████████████████████████████████████████████████████████████████| 20/20 [00:20<00:00,  1.01s/it]\n"
     ]
    },
    {
     "name": "stdout",
     "output_type": "stream",
     "text": [
      "Pegando o elemento principal pela classe...\n",
      "Criando o Soup...\n",
      "Encontrando os elementos na página\n",
      "Varrendo a árvore de elementos\n",
      "Foram encontrados 37 indicadores\n",
      "Criando o Dicionário com os indicadores\n",
      "\n",
      ">>>>>>>>>> belford-roxo\n",
      "Acessando a url...\n",
      "Aguardando 20 segundos para o carregamento da página...\n"
     ]
    },
    {
     "name": "stderr",
     "output_type": "stream",
     "text": [
      "100%|██████████████████████████████████████████████████████████████████████████████████| 20/20 [00:20<00:00,  1.01s/it]\n"
     ]
    },
    {
     "name": "stdout",
     "output_type": "stream",
     "text": [
      "Pegando o elemento principal pela classe...\n",
      "Criando o Soup...\n",
      "Encontrando os elementos na página\n",
      "Varrendo a árvore de elementos\n",
      "Foram encontrados 37 indicadores\n",
      "Criando o Dicionário com os indicadores\n",
      "\n",
      ">>>>>>>>>> bom-jardim\n",
      "Acessando a url...\n",
      "Aguardando 20 segundos para o carregamento da página...\n"
     ]
    },
    {
     "name": "stderr",
     "output_type": "stream",
     "text": [
      "100%|██████████████████████████████████████████████████████████████████████████████████| 20/20 [00:20<00:00,  1.01s/it]\n"
     ]
    },
    {
     "name": "stdout",
     "output_type": "stream",
     "text": [
      "Pegando o elemento principal pela classe...\n",
      "Criando o Soup...\n",
      "Encontrando os elementos na página\n",
      "Varrendo a árvore de elementos\n",
      "Foram encontrados 37 indicadores\n",
      "Criando o Dicionário com os indicadores\n",
      "\n",
      ">>>>>>>>>> bom-jesus-do-itabapoana\n",
      "Acessando a url...\n",
      "Aguardando 20 segundos para o carregamento da página...\n"
     ]
    },
    {
     "name": "stderr",
     "output_type": "stream",
     "text": [
      "100%|██████████████████████████████████████████████████████████████████████████████████| 20/20 [00:20<00:00,  1.01s/it]\n"
     ]
    },
    {
     "name": "stdout",
     "output_type": "stream",
     "text": [
      "Pegando o elemento principal pela classe...\n",
      "Criando o Soup...\n",
      "Encontrando os elementos na página\n",
      "Varrendo a árvore de elementos\n",
      "Foram encontrados 37 indicadores\n",
      "Criando o Dicionário com os indicadores\n",
      "\n",
      ">>>>>>>>>> cabo-frio\n",
      "Acessando a url...\n",
      "Aguardando 20 segundos para o carregamento da página...\n"
     ]
    },
    {
     "name": "stderr",
     "output_type": "stream",
     "text": [
      "100%|██████████████████████████████████████████████████████████████████████████████████| 20/20 [00:20<00:00,  1.01s/it]\n"
     ]
    },
    {
     "name": "stdout",
     "output_type": "stream",
     "text": [
      "Pegando o elemento principal pela classe...\n",
      "Criando o Soup...\n",
      "Encontrando os elementos na página\n",
      "Varrendo a árvore de elementos\n",
      "Foram encontrados 37 indicadores\n",
      "Criando o Dicionário com os indicadores\n",
      "\n",
      ">>>>>>>>>> cachoeiras-de-macacu\n",
      "Acessando a url...\n",
      "Aguardando 20 segundos para o carregamento da página...\n"
     ]
    },
    {
     "name": "stderr",
     "output_type": "stream",
     "text": [
      "100%|██████████████████████████████████████████████████████████████████████████████████| 20/20 [00:20<00:00,  1.01s/it]\n"
     ]
    },
    {
     "name": "stdout",
     "output_type": "stream",
     "text": [
      "Pegando o elemento principal pela classe...\n",
      "Criando o Soup...\n",
      "Encontrando os elementos na página\n",
      "Varrendo a árvore de elementos\n",
      "Foram encontrados 37 indicadores\n",
      "Criando o Dicionário com os indicadores\n",
      "\n",
      ">>>>>>>>>> cambuci\n",
      "Acessando a url...\n",
      "Aguardando 20 segundos para o carregamento da página...\n"
     ]
    },
    {
     "name": "stderr",
     "output_type": "stream",
     "text": [
      "100%|██████████████████████████████████████████████████████████████████████████████████| 20/20 [00:20<00:00,  1.01s/it]\n"
     ]
    },
    {
     "name": "stdout",
     "output_type": "stream",
     "text": [
      "Pegando o elemento principal pela classe...\n",
      "Criando o Soup...\n",
      "Encontrando os elementos na página\n",
      "Varrendo a árvore de elementos\n",
      "Foram encontrados 37 indicadores\n",
      "Criando o Dicionário com os indicadores\n",
      "\n",
      ">>>>>>>>>> campos-dos-goytacazes\n",
      "Acessando a url...\n",
      "Aguardando 20 segundos para o carregamento da página...\n"
     ]
    },
    {
     "name": "stderr",
     "output_type": "stream",
     "text": [
      "100%|██████████████████████████████████████████████████████████████████████████████████| 20/20 [00:20<00:00,  1.01s/it]\n"
     ]
    },
    {
     "name": "stdout",
     "output_type": "stream",
     "text": [
      "Pegando o elemento principal pela classe...\n",
      "Criando o Soup...\n",
      "Encontrando os elementos na página\n",
      "Varrendo a árvore de elementos\n",
      "Foram encontrados 37 indicadores\n",
      "Criando o Dicionário com os indicadores\n",
      "\n",
      ">>>>>>>>>> cantagalo\n",
      "Acessando a url...\n",
      "Aguardando 20 segundos para o carregamento da página...\n"
     ]
    },
    {
     "name": "stderr",
     "output_type": "stream",
     "text": [
      "100%|██████████████████████████████████████████████████████████████████████████████████| 20/20 [00:20<00:00,  1.01s/it]\n"
     ]
    },
    {
     "name": "stdout",
     "output_type": "stream",
     "text": [
      "Pegando o elemento principal pela classe...\n",
      "Criando o Soup...\n",
      "Encontrando os elementos na página\n",
      "Varrendo a árvore de elementos\n",
      "Foram encontrados 37 indicadores\n",
      "Criando o Dicionário com os indicadores\n",
      "\n",
      ">>>>>>>>>> carapebus\n",
      "Acessando a url...\n",
      "Aguardando 20 segundos para o carregamento da página...\n"
     ]
    },
    {
     "name": "stderr",
     "output_type": "stream",
     "text": [
      "100%|██████████████████████████████████████████████████████████████████████████████████| 20/20 [00:20<00:00,  1.01s/it]\n"
     ]
    },
    {
     "name": "stdout",
     "output_type": "stream",
     "text": [
      "Pegando o elemento principal pela classe...\n",
      "Criando o Soup...\n",
      "Encontrando os elementos na página\n",
      "Varrendo a árvore de elementos\n",
      "Foram encontrados 37 indicadores\n",
      "Criando o Dicionário com os indicadores\n",
      "\n",
      ">>>>>>>>>> cardoso-moreira\n",
      "Acessando a url...\n",
      "Aguardando 20 segundos para o carregamento da página...\n"
     ]
    },
    {
     "name": "stderr",
     "output_type": "stream",
     "text": [
      "100%|██████████████████████████████████████████████████████████████████████████████████| 20/20 [00:20<00:00,  1.01s/it]\n"
     ]
    },
    {
     "name": "stdout",
     "output_type": "stream",
     "text": [
      "Pegando o elemento principal pela classe...\n",
      "Criando o Soup...\n",
      "Encontrando os elementos na página\n",
      "Varrendo a árvore de elementos\n",
      "Foram encontrados 37 indicadores\n",
      "Criando o Dicionário com os indicadores\n",
      "\n",
      ">>>>>>>>>> carmo\n",
      "Acessando a url...\n",
      "Aguardando 20 segundos para o carregamento da página...\n"
     ]
    },
    {
     "name": "stderr",
     "output_type": "stream",
     "text": [
      "100%|██████████████████████████████████████████████████████████████████████████████████| 20/20 [00:20<00:00,  1.01s/it]\n"
     ]
    },
    {
     "name": "stdout",
     "output_type": "stream",
     "text": [
      "Pegando o elemento principal pela classe...\n",
      "Criando o Soup...\n",
      "Encontrando os elementos na página\n",
      "Varrendo a árvore de elementos\n",
      "Foram encontrados 37 indicadores\n",
      "Criando o Dicionário com os indicadores\n",
      "\n",
      ">>>>>>>>>> casimiro-de-abreu\n",
      "Acessando a url...\n",
      "Aguardando 20 segundos para o carregamento da página...\n"
     ]
    },
    {
     "name": "stderr",
     "output_type": "stream",
     "text": [
      "100%|██████████████████████████████████████████████████████████████████████████████████| 20/20 [00:20<00:00,  1.01s/it]\n"
     ]
    },
    {
     "name": "stdout",
     "output_type": "stream",
     "text": [
      "Pegando o elemento principal pela classe...\n",
      "Criando o Soup...\n",
      "Encontrando os elementos na página\n",
      "Varrendo a árvore de elementos\n",
      "Foram encontrados 37 indicadores\n",
      "Criando o Dicionário com os indicadores\n",
      "\n",
      ">>>>>>>>>> comendador-levy-gasparian\n",
      "Acessando a url...\n",
      "Aguardando 20 segundos para o carregamento da página...\n"
     ]
    },
    {
     "name": "stderr",
     "output_type": "stream",
     "text": [
      "100%|██████████████████████████████████████████████████████████████████████████████████| 20/20 [00:20<00:00,  1.01s/it]\n"
     ]
    },
    {
     "name": "stdout",
     "output_type": "stream",
     "text": [
      "Pegando o elemento principal pela classe...\n",
      "Criando o Soup...\n",
      "Encontrando os elementos na página\n",
      "Varrendo a árvore de elementos\n",
      "Foram encontrados 37 indicadores\n",
      "Criando o Dicionário com os indicadores\n",
      "\n",
      ">>>>>>>>>> conceicao-de-macabu\n",
      "Acessando a url...\n",
      "Aguardando 20 segundos para o carregamento da página...\n"
     ]
    },
    {
     "name": "stderr",
     "output_type": "stream",
     "text": [
      "100%|██████████████████████████████████████████████████████████████████████████████████| 20/20 [00:20<00:00,  1.01s/it]\n"
     ]
    },
    {
     "name": "stdout",
     "output_type": "stream",
     "text": [
      "Pegando o elemento principal pela classe...\n",
      "Criando o Soup...\n",
      "Encontrando os elementos na página\n",
      "Varrendo a árvore de elementos\n",
      "Foram encontrados 37 indicadores\n",
      "Criando o Dicionário com os indicadores\n",
      "\n",
      ">>>>>>>>>> cordeiro\n",
      "Acessando a url...\n",
      "Aguardando 20 segundos para o carregamento da página...\n"
     ]
    },
    {
     "name": "stderr",
     "output_type": "stream",
     "text": [
      "100%|██████████████████████████████████████████████████████████████████████████████████| 20/20 [00:20<00:00,  1.01s/it]\n"
     ]
    },
    {
     "name": "stdout",
     "output_type": "stream",
     "text": [
      "Pegando o elemento principal pela classe...\n",
      "Criando o Soup...\n",
      "Encontrando os elementos na página\n",
      "Varrendo a árvore de elementos\n",
      "Foram encontrados 37 indicadores\n",
      "Criando o Dicionário com os indicadores\n",
      "\n",
      ">>>>>>>>>> duas-barras\n",
      "Acessando a url...\n",
      "Aguardando 20 segundos para o carregamento da página...\n"
     ]
    },
    {
     "name": "stderr",
     "output_type": "stream",
     "text": [
      "100%|██████████████████████████████████████████████████████████████████████████████████| 20/20 [00:20<00:00,  1.01s/it]\n"
     ]
    },
    {
     "name": "stdout",
     "output_type": "stream",
     "text": [
      "Pegando o elemento principal pela classe...\n",
      "Criando o Soup...\n",
      "Encontrando os elementos na página\n",
      "Varrendo a árvore de elementos\n",
      "Foram encontrados 37 indicadores\n",
      "Criando o Dicionário com os indicadores\n",
      "\n",
      ">>>>>>>>>> duque-de-caxias\n",
      "Acessando a url...\n",
      "Aguardando 20 segundos para o carregamento da página...\n"
     ]
    },
    {
     "name": "stderr",
     "output_type": "stream",
     "text": [
      "100%|██████████████████████████████████████████████████████████████████████████████████| 20/20 [00:20<00:00,  1.01s/it]\n"
     ]
    },
    {
     "name": "stdout",
     "output_type": "stream",
     "text": [
      "Pegando o elemento principal pela classe...\n",
      "Criando o Soup...\n",
      "Encontrando os elementos na página\n",
      "Varrendo a árvore de elementos\n",
      "Foram encontrados 37 indicadores\n",
      "Criando o Dicionário com os indicadores\n",
      "\n",
      ">>>>>>>>>> engenheiro-paulo-de-frontin\n",
      "Acessando a url...\n",
      "Aguardando 20 segundos para o carregamento da página...\n"
     ]
    },
    {
     "name": "stderr",
     "output_type": "stream",
     "text": [
      "100%|██████████████████████████████████████████████████████████████████████████████████| 20/20 [00:20<00:00,  1.01s/it]\n"
     ]
    },
    {
     "name": "stdout",
     "output_type": "stream",
     "text": [
      "Pegando o elemento principal pela classe...\n",
      "Criando o Soup...\n",
      "Encontrando os elementos na página\n",
      "Varrendo a árvore de elementos\n",
      "Foram encontrados 37 indicadores\n",
      "Criando o Dicionário com os indicadores\n",
      "\n",
      ">>>>>>>>>> guapimirim\n",
      "Acessando a url...\n",
      "Aguardando 20 segundos para o carregamento da página...\n"
     ]
    },
    {
     "name": "stderr",
     "output_type": "stream",
     "text": [
      "100%|██████████████████████████████████████████████████████████████████████████████████| 20/20 [00:20<00:00,  1.01s/it]\n"
     ]
    },
    {
     "name": "stdout",
     "output_type": "stream",
     "text": [
      "Pegando o elemento principal pela classe...\n",
      "Criando o Soup...\n",
      "Encontrando os elementos na página\n",
      "Varrendo a árvore de elementos\n",
      "Foram encontrados 37 indicadores\n",
      "Criando o Dicionário com os indicadores\n",
      "\n",
      ">>>>>>>>>> iguaba-grande\n",
      "Acessando a url...\n",
      "Aguardando 20 segundos para o carregamento da página...\n"
     ]
    },
    {
     "name": "stderr",
     "output_type": "stream",
     "text": [
      "100%|██████████████████████████████████████████████████████████████████████████████████| 20/20 [00:20<00:00,  1.01s/it]\n"
     ]
    },
    {
     "name": "stdout",
     "output_type": "stream",
     "text": [
      "Pegando o elemento principal pela classe...\n",
      "Criando o Soup...\n",
      "Encontrando os elementos na página\n",
      "Varrendo a árvore de elementos\n",
      "Foram encontrados 37 indicadores\n",
      "Criando o Dicionário com os indicadores\n",
      "\n",
      ">>>>>>>>>> itaborai\n",
      "Acessando a url...\n",
      "Aguardando 20 segundos para o carregamento da página...\n"
     ]
    },
    {
     "name": "stderr",
     "output_type": "stream",
     "text": [
      "100%|██████████████████████████████████████████████████████████████████████████████████| 20/20 [00:20<00:00,  1.01s/it]\n"
     ]
    },
    {
     "name": "stdout",
     "output_type": "stream",
     "text": [
      "Pegando o elemento principal pela classe...\n",
      "Criando o Soup...\n",
      "Encontrando os elementos na página\n",
      "Varrendo a árvore de elementos\n",
      "Foram encontrados 37 indicadores\n",
      "Criando o Dicionário com os indicadores\n",
      "\n",
      ">>>>>>>>>> itaguai\n",
      "Acessando a url...\n",
      "Aguardando 20 segundos para o carregamento da página...\n"
     ]
    },
    {
     "name": "stderr",
     "output_type": "stream",
     "text": [
      "100%|██████████████████████████████████████████████████████████████████████████████████| 20/20 [00:20<00:00,  1.01s/it]\n"
     ]
    },
    {
     "name": "stdout",
     "output_type": "stream",
     "text": [
      "Pegando o elemento principal pela classe...\n",
      "Criando o Soup...\n",
      "Encontrando os elementos na página\n",
      "Varrendo a árvore de elementos\n",
      "Foram encontrados 37 indicadores\n",
      "Criando o Dicionário com os indicadores\n",
      "\n",
      ">>>>>>>>>> italva\n",
      "Acessando a url...\n",
      "Aguardando 20 segundos para o carregamento da página...\n"
     ]
    },
    {
     "name": "stderr",
     "output_type": "stream",
     "text": [
      "100%|██████████████████████████████████████████████████████████████████████████████████| 20/20 [00:20<00:00,  1.01s/it]\n"
     ]
    },
    {
     "name": "stdout",
     "output_type": "stream",
     "text": [
      "Pegando o elemento principal pela classe...\n",
      "Criando o Soup...\n",
      "Encontrando os elementos na página\n",
      "Varrendo a árvore de elementos\n",
      "Foram encontrados 37 indicadores\n",
      "Criando o Dicionário com os indicadores\n",
      "\n",
      ">>>>>>>>>> itaocara\n",
      "Acessando a url...\n",
      "Aguardando 20 segundos para o carregamento da página...\n"
     ]
    },
    {
     "name": "stderr",
     "output_type": "stream",
     "text": [
      "100%|██████████████████████████████████████████████████████████████████████████████████| 20/20 [00:20<00:00,  1.01s/it]\n"
     ]
    },
    {
     "name": "stdout",
     "output_type": "stream",
     "text": [
      "Pegando o elemento principal pela classe...\n",
      "Criando o Soup...\n",
      "Encontrando os elementos na página\n",
      "Varrendo a árvore de elementos\n",
      "Foram encontrados 37 indicadores\n",
      "Criando o Dicionário com os indicadores\n",
      "\n",
      ">>>>>>>>>> itaperuna\n",
      "Acessando a url...\n",
      "Aguardando 20 segundos para o carregamento da página...\n"
     ]
    },
    {
     "name": "stderr",
     "output_type": "stream",
     "text": [
      "100%|██████████████████████████████████████████████████████████████████████████████████| 20/20 [00:20<00:00,  1.01s/it]\n"
     ]
    },
    {
     "name": "stdout",
     "output_type": "stream",
     "text": [
      "Pegando o elemento principal pela classe...\n",
      "Criando o Soup...\n",
      "Encontrando os elementos na página\n",
      "Varrendo a árvore de elementos\n",
      "Foram encontrados 37 indicadores\n",
      "Criando o Dicionário com os indicadores\n",
      "\n",
      ">>>>>>>>>> itatiaia\n",
      "Acessando a url...\n",
      "Aguardando 20 segundos para o carregamento da página...\n"
     ]
    },
    {
     "name": "stderr",
     "output_type": "stream",
     "text": [
      "100%|██████████████████████████████████████████████████████████████████████████████████| 20/20 [00:20<00:00,  1.01s/it]\n"
     ]
    },
    {
     "name": "stdout",
     "output_type": "stream",
     "text": [
      "Pegando o elemento principal pela classe...\n",
      "Criando o Soup...\n",
      "Encontrando os elementos na página\n",
      "Varrendo a árvore de elementos\n",
      "Foram encontrados 37 indicadores\n",
      "Criando o Dicionário com os indicadores\n",
      "\n",
      ">>>>>>>>>> japeri\n",
      "Acessando a url...\n",
      "Aguardando 20 segundos para o carregamento da página...\n"
     ]
    },
    {
     "name": "stderr",
     "output_type": "stream",
     "text": [
      "100%|██████████████████████████████████████████████████████████████████████████████████| 20/20 [00:20<00:00,  1.01s/it]\n"
     ]
    },
    {
     "name": "stdout",
     "output_type": "stream",
     "text": [
      "Pegando o elemento principal pela classe...\n",
      "Criando o Soup...\n",
      "Encontrando os elementos na página\n",
      "Varrendo a árvore de elementos\n",
      "Foram encontrados 37 indicadores\n",
      "Criando o Dicionário com os indicadores\n",
      "\n",
      ">>>>>>>>>> laje-do-muriae\n",
      "Acessando a url...\n",
      "Aguardando 20 segundos para o carregamento da página...\n"
     ]
    },
    {
     "name": "stderr",
     "output_type": "stream",
     "text": [
      "100%|██████████████████████████████████████████████████████████████████████████████████| 20/20 [00:20<00:00,  1.01s/it]\n"
     ]
    },
    {
     "name": "stdout",
     "output_type": "stream",
     "text": [
      "Pegando o elemento principal pela classe...\n",
      "Criando o Soup...\n",
      "Encontrando os elementos na página\n",
      "Varrendo a árvore de elementos\n",
      "Foram encontrados 37 indicadores\n",
      "Criando o Dicionário com os indicadores\n",
      "\n",
      ">>>>>>>>>> macae\n",
      "Acessando a url...\n",
      "Aguardando 20 segundos para o carregamento da página...\n"
     ]
    },
    {
     "name": "stderr",
     "output_type": "stream",
     "text": [
      "100%|██████████████████████████████████████████████████████████████████████████████████| 20/20 [00:20<00:00,  1.01s/it]\n"
     ]
    },
    {
     "name": "stdout",
     "output_type": "stream",
     "text": [
      "Pegando o elemento principal pela classe...\n",
      "Criando o Soup...\n",
      "Encontrando os elementos na página\n",
      "Varrendo a árvore de elementos\n",
      "Foram encontrados 37 indicadores\n",
      "Criando o Dicionário com os indicadores\n",
      "\n",
      ">>>>>>>>>> macuco\n",
      "Acessando a url...\n",
      "Aguardando 20 segundos para o carregamento da página...\n"
     ]
    },
    {
     "name": "stderr",
     "output_type": "stream",
     "text": [
      "100%|██████████████████████████████████████████████████████████████████████████████████| 20/20 [00:20<00:00,  1.01s/it]\n"
     ]
    },
    {
     "name": "stdout",
     "output_type": "stream",
     "text": [
      "Pegando o elemento principal pela classe...\n",
      "Criando o Soup...\n",
      "Encontrando os elementos na página\n",
      "Varrendo a árvore de elementos\n",
      "Foram encontrados 37 indicadores\n",
      "Criando o Dicionário com os indicadores\n",
      "\n",
      ">>>>>>>>>> mage\n",
      "Acessando a url...\n",
      "Aguardando 20 segundos para o carregamento da página...\n"
     ]
    },
    {
     "name": "stderr",
     "output_type": "stream",
     "text": [
      "100%|██████████████████████████████████████████████████████████████████████████████████| 20/20 [00:20<00:00,  1.01s/it]\n"
     ]
    },
    {
     "name": "stdout",
     "output_type": "stream",
     "text": [
      "Pegando o elemento principal pela classe...\n",
      "Criando o Soup...\n",
      "Encontrando os elementos na página\n",
      "Varrendo a árvore de elementos\n",
      "Foram encontrados 37 indicadores\n",
      "Criando o Dicionário com os indicadores\n",
      "\n",
      ">>>>>>>>>> mangaratiba\n",
      "Acessando a url...\n",
      "Aguardando 20 segundos para o carregamento da página...\n"
     ]
    },
    {
     "name": "stderr",
     "output_type": "stream",
     "text": [
      "100%|██████████████████████████████████████████████████████████████████████████████████| 20/20 [00:20<00:00,  1.01s/it]\n"
     ]
    },
    {
     "name": "stdout",
     "output_type": "stream",
     "text": [
      "Pegando o elemento principal pela classe...\n",
      "Criando o Soup...\n",
      "Encontrando os elementos na página\n",
      "Varrendo a árvore de elementos\n",
      "Foram encontrados 37 indicadores\n",
      "Criando o Dicionário com os indicadores\n",
      "\n",
      ">>>>>>>>>> marica\n",
      "Acessando a url...\n",
      "Aguardando 20 segundos para o carregamento da página...\n"
     ]
    },
    {
     "name": "stderr",
     "output_type": "stream",
     "text": [
      "100%|██████████████████████████████████████████████████████████████████████████████████| 20/20 [00:20<00:00,  1.01s/it]\n"
     ]
    },
    {
     "name": "stdout",
     "output_type": "stream",
     "text": [
      "Pegando o elemento principal pela classe...\n",
      "Criando o Soup...\n",
      "Encontrando os elementos na página\n",
      "Varrendo a árvore de elementos\n",
      "Foram encontrados 37 indicadores\n",
      "Criando o Dicionário com os indicadores\n",
      "\n",
      ">>>>>>>>>> mendes\n",
      "Acessando a url...\n",
      "Aguardando 20 segundos para o carregamento da página...\n"
     ]
    },
    {
     "name": "stderr",
     "output_type": "stream",
     "text": [
      "100%|██████████████████████████████████████████████████████████████████████████████████| 20/20 [00:20<00:00,  1.01s/it]\n"
     ]
    },
    {
     "name": "stdout",
     "output_type": "stream",
     "text": [
      "Pegando o elemento principal pela classe...\n",
      "Criando o Soup...\n",
      "Encontrando os elementos na página\n",
      "Varrendo a árvore de elementos\n",
      "Foram encontrados 37 indicadores\n",
      "Criando o Dicionário com os indicadores\n",
      "\n",
      ">>>>>>>>>> mesquita\n",
      "Acessando a url...\n",
      "Aguardando 20 segundos para o carregamento da página...\n"
     ]
    },
    {
     "name": "stderr",
     "output_type": "stream",
     "text": [
      "100%|██████████████████████████████████████████████████████████████████████████████████| 20/20 [00:20<00:00,  1.01s/it]\n"
     ]
    },
    {
     "name": "stdout",
     "output_type": "stream",
     "text": [
      "Pegando o elemento principal pela classe...\n",
      "Criando o Soup...\n",
      "Encontrando os elementos na página\n",
      "Varrendo a árvore de elementos\n",
      "Foram encontrados 37 indicadores\n",
      "Criando o Dicionário com os indicadores\n",
      "\n",
      ">>>>>>>>>> miguel-pereira\n",
      "Acessando a url...\n",
      "Aguardando 20 segundos para o carregamento da página...\n"
     ]
    },
    {
     "name": "stderr",
     "output_type": "stream",
     "text": [
      "100%|██████████████████████████████████████████████████████████████████████████████████| 20/20 [00:20<00:00,  1.01s/it]\n"
     ]
    },
    {
     "name": "stdout",
     "output_type": "stream",
     "text": [
      "Pegando o elemento principal pela classe...\n",
      "Criando o Soup...\n",
      "Encontrando os elementos na página\n",
      "Varrendo a árvore de elementos\n",
      "Foram encontrados 37 indicadores\n",
      "Criando o Dicionário com os indicadores\n",
      "\n",
      ">>>>>>>>>> miracema\n",
      "Acessando a url...\n",
      "Aguardando 20 segundos para o carregamento da página...\n"
     ]
    },
    {
     "name": "stderr",
     "output_type": "stream",
     "text": [
      "100%|██████████████████████████████████████████████████████████████████████████████████| 20/20 [00:20<00:00,  1.01s/it]\n"
     ]
    },
    {
     "name": "stdout",
     "output_type": "stream",
     "text": [
      "Pegando o elemento principal pela classe...\n",
      "Criando o Soup...\n",
      "Encontrando os elementos na página\n",
      "Varrendo a árvore de elementos\n",
      "Foram encontrados 37 indicadores\n",
      "Criando o Dicionário com os indicadores\n",
      "\n",
      ">>>>>>>>>> natividade\n",
      "Acessando a url...\n",
      "Aguardando 20 segundos para o carregamento da página...\n"
     ]
    },
    {
     "name": "stderr",
     "output_type": "stream",
     "text": [
      "100%|██████████████████████████████████████████████████████████████████████████████████| 20/20 [00:20<00:00,  1.01s/it]\n"
     ]
    },
    {
     "name": "stdout",
     "output_type": "stream",
     "text": [
      "Pegando o elemento principal pela classe...\n",
      "Criando o Soup...\n",
      "Encontrando os elementos na página\n",
      "Varrendo a árvore de elementos\n",
      "Foram encontrados 37 indicadores\n",
      "Criando o Dicionário com os indicadores\n",
      "\n",
      ">>>>>>>>>> nilopolis\n",
      "Acessando a url...\n",
      "Aguardando 20 segundos para o carregamento da página...\n"
     ]
    },
    {
     "name": "stderr",
     "output_type": "stream",
     "text": [
      "100%|██████████████████████████████████████████████████████████████████████████████████| 20/20 [00:20<00:00,  1.01s/it]\n"
     ]
    },
    {
     "name": "stdout",
     "output_type": "stream",
     "text": [
      "Pegando o elemento principal pela classe...\n",
      "Criando o Soup...\n",
      "Encontrando os elementos na página\n",
      "Varrendo a árvore de elementos\n",
      "Foram encontrados 37 indicadores\n",
      "Criando o Dicionário com os indicadores\n",
      "\n",
      ">>>>>>>>>> niteroi\n",
      "Acessando a url...\n",
      "Aguardando 20 segundos para o carregamento da página...\n"
     ]
    },
    {
     "name": "stderr",
     "output_type": "stream",
     "text": [
      "100%|██████████████████████████████████████████████████████████████████████████████████| 20/20 [00:20<00:00,  1.01s/it]\n"
     ]
    },
    {
     "name": "stdout",
     "output_type": "stream",
     "text": [
      "Pegando o elemento principal pela classe...\n",
      "Criando o Soup...\n",
      "Encontrando os elementos na página\n",
      "Varrendo a árvore de elementos\n",
      "Foram encontrados 37 indicadores\n",
      "Criando o Dicionário com os indicadores\n",
      "\n",
      ">>>>>>>>>> nova-friburgo\n",
      "Acessando a url...\n",
      "Aguardando 20 segundos para o carregamento da página...\n"
     ]
    },
    {
     "name": "stderr",
     "output_type": "stream",
     "text": [
      "100%|██████████████████████████████████████████████████████████████████████████████████| 20/20 [00:20<00:00,  1.01s/it]\n"
     ]
    },
    {
     "name": "stdout",
     "output_type": "stream",
     "text": [
      "Pegando o elemento principal pela classe...\n",
      "Criando o Soup...\n",
      "Encontrando os elementos na página\n",
      "Varrendo a árvore de elementos\n",
      "Foram encontrados 37 indicadores\n",
      "Criando o Dicionário com os indicadores\n",
      "\n",
      ">>>>>>>>>> nova-iguacu\n",
      "Acessando a url...\n",
      "Aguardando 20 segundos para o carregamento da página...\n"
     ]
    },
    {
     "name": "stderr",
     "output_type": "stream",
     "text": [
      "100%|██████████████████████████████████████████████████████████████████████████████████| 20/20 [00:20<00:00,  1.01s/it]\n"
     ]
    },
    {
     "name": "stdout",
     "output_type": "stream",
     "text": [
      "Pegando o elemento principal pela classe...\n",
      "Criando o Soup...\n",
      "Encontrando os elementos na página\n",
      "Varrendo a árvore de elementos\n",
      "Foram encontrados 37 indicadores\n",
      "Criando o Dicionário com os indicadores\n",
      "\n",
      ">>>>>>>>>> paracambi\n",
      "Acessando a url...\n",
      "Aguardando 20 segundos para o carregamento da página...\n"
     ]
    },
    {
     "name": "stderr",
     "output_type": "stream",
     "text": [
      "100%|██████████████████████████████████████████████████████████████████████████████████| 20/20 [00:20<00:00,  1.01s/it]\n"
     ]
    },
    {
     "name": "stdout",
     "output_type": "stream",
     "text": [
      "Pegando o elemento principal pela classe...\n",
      "Criando o Soup...\n",
      "Encontrando os elementos na página\n",
      "Varrendo a árvore de elementos\n",
      "Foram encontrados 37 indicadores\n",
      "Criando o Dicionário com os indicadores\n",
      "\n",
      ">>>>>>>>>> paraiba-do-sul\n",
      "Acessando a url...\n",
      "Aguardando 20 segundos para o carregamento da página...\n"
     ]
    },
    {
     "name": "stderr",
     "output_type": "stream",
     "text": [
      "100%|██████████████████████████████████████████████████████████████████████████████████| 20/20 [00:20<00:00,  1.01s/it]\n"
     ]
    },
    {
     "name": "stdout",
     "output_type": "stream",
     "text": [
      "Pegando o elemento principal pela classe...\n",
      "Criando o Soup...\n",
      "Encontrando os elementos na página\n",
      "Varrendo a árvore de elementos\n",
      "Foram encontrados 37 indicadores\n",
      "Criando o Dicionário com os indicadores\n",
      "\n",
      ">>>>>>>>>> paraty\n",
      "Acessando a url...\n",
      "Aguardando 20 segundos para o carregamento da página...\n"
     ]
    },
    {
     "name": "stderr",
     "output_type": "stream",
     "text": [
      "100%|██████████████████████████████████████████████████████████████████████████████████| 20/20 [00:20<00:00,  1.01s/it]\n"
     ]
    },
    {
     "name": "stdout",
     "output_type": "stream",
     "text": [
      "Pegando o elemento principal pela classe...\n",
      "Criando o Soup...\n",
      "Encontrando os elementos na página\n",
      "Varrendo a árvore de elementos\n",
      "Foram encontrados 37 indicadores\n",
      "Criando o Dicionário com os indicadores\n",
      "\n",
      ">>>>>>>>>> paty-do-alferes\n",
      "Acessando a url...\n",
      "Aguardando 20 segundos para o carregamento da página...\n"
     ]
    },
    {
     "name": "stderr",
     "output_type": "stream",
     "text": [
      "100%|██████████████████████████████████████████████████████████████████████████████████| 20/20 [00:20<00:00,  1.01s/it]\n"
     ]
    },
    {
     "name": "stdout",
     "output_type": "stream",
     "text": [
      "Pegando o elemento principal pela classe...\n",
      "Criando o Soup...\n",
      "Encontrando os elementos na página\n",
      "Varrendo a árvore de elementos\n",
      "Foram encontrados 37 indicadores\n",
      "Criando o Dicionário com os indicadores\n",
      "\n",
      ">>>>>>>>>> petropolis\n",
      "Acessando a url...\n",
      "Aguardando 20 segundos para o carregamento da página...\n"
     ]
    },
    {
     "name": "stderr",
     "output_type": "stream",
     "text": [
      "100%|██████████████████████████████████████████████████████████████████████████████████| 20/20 [00:20<00:00,  1.01s/it]\n"
     ]
    },
    {
     "name": "stdout",
     "output_type": "stream",
     "text": [
      "Pegando o elemento principal pela classe...\n",
      "Criando o Soup...\n",
      "Encontrando os elementos na página\n",
      "Varrendo a árvore de elementos\n",
      "Foram encontrados 37 indicadores\n",
      "Criando o Dicionário com os indicadores\n",
      "\n",
      ">>>>>>>>>> pinheiral\n",
      "Acessando a url...\n",
      "Aguardando 20 segundos para o carregamento da página...\n"
     ]
    },
    {
     "name": "stderr",
     "output_type": "stream",
     "text": [
      "100%|██████████████████████████████████████████████████████████████████████████████████| 20/20 [00:20<00:00,  1.01s/it]\n"
     ]
    },
    {
     "name": "stdout",
     "output_type": "stream",
     "text": [
      "Pegando o elemento principal pela classe...\n",
      "Criando o Soup...\n",
      "Encontrando os elementos na página\n",
      "Varrendo a árvore de elementos\n",
      "Foram encontrados 37 indicadores\n",
      "Criando o Dicionário com os indicadores\n",
      "\n",
      ">>>>>>>>>> pirai\n",
      "Acessando a url...\n",
      "Aguardando 20 segundos para o carregamento da página...\n"
     ]
    },
    {
     "name": "stderr",
     "output_type": "stream",
     "text": [
      "100%|██████████████████████████████████████████████████████████████████████████████████| 20/20 [00:20<00:00,  1.01s/it]\n"
     ]
    },
    {
     "name": "stdout",
     "output_type": "stream",
     "text": [
      "Pegando o elemento principal pela classe...\n",
      "Criando o Soup...\n",
      "Encontrando os elementos na página\n",
      "Varrendo a árvore de elementos\n",
      "Foram encontrados 37 indicadores\n",
      "Criando o Dicionário com os indicadores\n",
      "\n",
      ">>>>>>>>>> porciuncula\n",
      "Acessando a url...\n",
      "Aguardando 20 segundos para o carregamento da página...\n"
     ]
    },
    {
     "name": "stderr",
     "output_type": "stream",
     "text": [
      "100%|██████████████████████████████████████████████████████████████████████████████████| 20/20 [00:20<00:00,  1.01s/it]\n"
     ]
    },
    {
     "name": "stdout",
     "output_type": "stream",
     "text": [
      "Pegando o elemento principal pela classe...\n",
      "Criando o Soup...\n",
      "Encontrando os elementos na página\n",
      "Varrendo a árvore de elementos\n",
      "Foram encontrados 37 indicadores\n",
      "Criando o Dicionário com os indicadores\n",
      "\n",
      ">>>>>>>>>> porto-real\n",
      "Acessando a url...\n",
      "Aguardando 20 segundos para o carregamento da página...\n"
     ]
    },
    {
     "name": "stderr",
     "output_type": "stream",
     "text": [
      "100%|██████████████████████████████████████████████████████████████████████████████████| 20/20 [00:20<00:00,  1.01s/it]\n"
     ]
    },
    {
     "name": "stdout",
     "output_type": "stream",
     "text": [
      "Pegando o elemento principal pela classe...\n",
      "Criando o Soup...\n",
      "Encontrando os elementos na página\n",
      "Varrendo a árvore de elementos\n",
      "Foram encontrados 37 indicadores\n",
      "Criando o Dicionário com os indicadores\n",
      "\n",
      ">>>>>>>>>> quatis\n",
      "Acessando a url...\n",
      "Aguardando 20 segundos para o carregamento da página...\n"
     ]
    },
    {
     "name": "stderr",
     "output_type": "stream",
     "text": [
      "100%|██████████████████████████████████████████████████████████████████████████████████| 20/20 [00:20<00:00,  1.01s/it]\n"
     ]
    },
    {
     "name": "stdout",
     "output_type": "stream",
     "text": [
      "Pegando o elemento principal pela classe...\n",
      "Criando o Soup...\n",
      "Encontrando os elementos na página\n",
      "Varrendo a árvore de elementos\n",
      "Foram encontrados 37 indicadores\n",
      "Criando o Dicionário com os indicadores\n",
      "\n",
      ">>>>>>>>>> queimados\n",
      "Acessando a url...\n",
      "Aguardando 20 segundos para o carregamento da página...\n"
     ]
    },
    {
     "name": "stderr",
     "output_type": "stream",
     "text": [
      "100%|██████████████████████████████████████████████████████████████████████████████████| 20/20 [00:20<00:00,  1.01s/it]\n"
     ]
    },
    {
     "name": "stdout",
     "output_type": "stream",
     "text": [
      "Pegando o elemento principal pela classe...\n",
      "Criando o Soup...\n",
      "Encontrando os elementos na página\n",
      "Varrendo a árvore de elementos\n",
      "Foram encontrados 37 indicadores\n",
      "Criando o Dicionário com os indicadores\n",
      "\n",
      ">>>>>>>>>> quissama\n",
      "Acessando a url...\n",
      "Aguardando 20 segundos para o carregamento da página...\n"
     ]
    },
    {
     "name": "stderr",
     "output_type": "stream",
     "text": [
      "100%|██████████████████████████████████████████████████████████████████████████████████| 20/20 [00:20<00:00,  1.01s/it]\n"
     ]
    },
    {
     "name": "stdout",
     "output_type": "stream",
     "text": [
      "Pegando o elemento principal pela classe...\n",
      "Criando o Soup...\n",
      "Encontrando os elementos na página\n",
      "Varrendo a árvore de elementos\n",
      "Foram encontrados 37 indicadores\n",
      "Criando o Dicionário com os indicadores\n",
      "\n",
      ">>>>>>>>>> resende\n",
      "Acessando a url...\n",
      "Aguardando 20 segundos para o carregamento da página...\n"
     ]
    },
    {
     "name": "stderr",
     "output_type": "stream",
     "text": [
      "100%|██████████████████████████████████████████████████████████████████████████████████| 20/20 [00:20<00:00,  1.01s/it]\n"
     ]
    },
    {
     "name": "stdout",
     "output_type": "stream",
     "text": [
      "Pegando o elemento principal pela classe...\n",
      "Criando o Soup...\n",
      "Encontrando os elementos na página\n",
      "Varrendo a árvore de elementos\n",
      "Foram encontrados 37 indicadores\n",
      "Criando o Dicionário com os indicadores\n",
      "\n",
      ">>>>>>>>>> rio-bonito\n",
      "Acessando a url...\n",
      "Aguardando 20 segundos para o carregamento da página...\n"
     ]
    },
    {
     "name": "stderr",
     "output_type": "stream",
     "text": [
      "100%|██████████████████████████████████████████████████████████████████████████████████| 20/20 [00:20<00:00,  1.01s/it]\n"
     ]
    },
    {
     "name": "stdout",
     "output_type": "stream",
     "text": [
      "Pegando o elemento principal pela classe...\n",
      "Criando o Soup...\n",
      "Encontrando os elementos na página\n",
      "Varrendo a árvore de elementos\n",
      "Foram encontrados 37 indicadores\n",
      "Criando o Dicionário com os indicadores\n",
      "\n",
      ">>>>>>>>>> rio-claro\n",
      "Acessando a url...\n",
      "Aguardando 20 segundos para o carregamento da página...\n"
     ]
    },
    {
     "name": "stderr",
     "output_type": "stream",
     "text": [
      "100%|██████████████████████████████████████████████████████████████████████████████████| 20/20 [00:20<00:00,  1.01s/it]\n"
     ]
    },
    {
     "name": "stdout",
     "output_type": "stream",
     "text": [
      "Pegando o elemento principal pela classe...\n",
      "Criando o Soup...\n",
      "Encontrando os elementos na página\n",
      "Varrendo a árvore de elementos\n",
      "Foram encontrados 37 indicadores\n",
      "Criando o Dicionário com os indicadores\n",
      "\n",
      ">>>>>>>>>> rio-das-flores\n",
      "Acessando a url...\n",
      "Aguardando 20 segundos para o carregamento da página...\n"
     ]
    },
    {
     "name": "stderr",
     "output_type": "stream",
     "text": [
      "100%|██████████████████████████████████████████████████████████████████████████████████| 20/20 [00:20<00:00,  1.01s/it]\n"
     ]
    },
    {
     "name": "stdout",
     "output_type": "stream",
     "text": [
      "Pegando o elemento principal pela classe...\n",
      "Criando o Soup...\n",
      "Encontrando os elementos na página\n",
      "Varrendo a árvore de elementos\n",
      "Foram encontrados 37 indicadores\n",
      "Criando o Dicionário com os indicadores\n",
      "\n",
      ">>>>>>>>>> rio-das-ostras\n",
      "Acessando a url...\n",
      "Aguardando 20 segundos para o carregamento da página...\n"
     ]
    },
    {
     "name": "stderr",
     "output_type": "stream",
     "text": [
      "100%|██████████████████████████████████████████████████████████████████████████████████| 20/20 [00:20<00:00,  1.01s/it]\n"
     ]
    },
    {
     "name": "stdout",
     "output_type": "stream",
     "text": [
      "Pegando o elemento principal pela classe...\n",
      "Criando o Soup...\n",
      "Encontrando os elementos na página\n",
      "Varrendo a árvore de elementos\n",
      "Foram encontrados 37 indicadores\n",
      "Criando o Dicionário com os indicadores\n",
      "\n",
      ">>>>>>>>>> rio-de-janeiro\n",
      "Acessando a url...\n",
      "Aguardando 20 segundos para o carregamento da página...\n"
     ]
    },
    {
     "name": "stderr",
     "output_type": "stream",
     "text": [
      "100%|██████████████████████████████████████████████████████████████████████████████████| 20/20 [00:20<00:00,  1.01s/it]\n"
     ]
    },
    {
     "name": "stdout",
     "output_type": "stream",
     "text": [
      "Pegando o elemento principal pela classe...\n",
      "Criando o Soup...\n",
      "Encontrando os elementos na página\n",
      "Varrendo a árvore de elementos\n",
      "Foram encontrados 37 indicadores\n",
      "Criando o Dicionário com os indicadores\n",
      "\n",
      ">>>>>>>>>> santa-maria-madalena\n",
      "Acessando a url...\n",
      "Aguardando 20 segundos para o carregamento da página...\n"
     ]
    },
    {
     "name": "stderr",
     "output_type": "stream",
     "text": [
      "100%|██████████████████████████████████████████████████████████████████████████████████| 20/20 [00:20<00:00,  1.01s/it]\n"
     ]
    },
    {
     "name": "stdout",
     "output_type": "stream",
     "text": [
      "Pegando o elemento principal pela classe...\n",
      "Criando o Soup...\n",
      "Encontrando os elementos na página\n",
      "Varrendo a árvore de elementos\n",
      "Foram encontrados 37 indicadores\n",
      "Criando o Dicionário com os indicadores\n",
      "\n",
      ">>>>>>>>>> santo-antonio-de-padua\n",
      "Acessando a url...\n",
      "Aguardando 20 segundos para o carregamento da página...\n"
     ]
    },
    {
     "name": "stderr",
     "output_type": "stream",
     "text": [
      "100%|██████████████████████████████████████████████████████████████████████████████████| 20/20 [00:20<00:00,  1.01s/it]\n"
     ]
    },
    {
     "name": "stdout",
     "output_type": "stream",
     "text": [
      "Pegando o elemento principal pela classe...\n",
      "Criando o Soup...\n",
      "Encontrando os elementos na página\n",
      "Varrendo a árvore de elementos\n",
      "Foram encontrados 37 indicadores\n",
      "Criando o Dicionário com os indicadores\n",
      "\n",
      ">>>>>>>>>> sao-fidelis\n",
      "Acessando a url...\n",
      "Aguardando 20 segundos para o carregamento da página...\n"
     ]
    },
    {
     "name": "stderr",
     "output_type": "stream",
     "text": [
      "100%|██████████████████████████████████████████████████████████████████████████████████| 20/20 [00:20<00:00,  1.01s/it]\n"
     ]
    },
    {
     "name": "stdout",
     "output_type": "stream",
     "text": [
      "Pegando o elemento principal pela classe...\n",
      "Criando o Soup...\n",
      "Encontrando os elementos na página\n",
      "Varrendo a árvore de elementos\n",
      "Foram encontrados 37 indicadores\n",
      "Criando o Dicionário com os indicadores\n",
      "\n",
      ">>>>>>>>>> sao-francisco-de-itabapoana\n",
      "Acessando a url...\n",
      "Aguardando 20 segundos para o carregamento da página...\n"
     ]
    },
    {
     "name": "stderr",
     "output_type": "stream",
     "text": [
      "100%|██████████████████████████████████████████████████████████████████████████████████| 20/20 [00:20<00:00,  1.01s/it]\n"
     ]
    },
    {
     "name": "stdout",
     "output_type": "stream",
     "text": [
      "Pegando o elemento principal pela classe...\n",
      "Criando o Soup...\n",
      "Encontrando os elementos na página\n",
      "Varrendo a árvore de elementos\n",
      "Foram encontrados 37 indicadores\n",
      "Criando o Dicionário com os indicadores\n",
      "\n",
      ">>>>>>>>>> sao-goncalo\n",
      "Acessando a url...\n",
      "Aguardando 20 segundos para o carregamento da página...\n"
     ]
    },
    {
     "name": "stderr",
     "output_type": "stream",
     "text": [
      "100%|██████████████████████████████████████████████████████████████████████████████████| 20/20 [00:20<00:00,  1.01s/it]\n"
     ]
    },
    {
     "name": "stdout",
     "output_type": "stream",
     "text": [
      "Pegando o elemento principal pela classe...\n",
      "Criando o Soup...\n",
      "Encontrando os elementos na página\n",
      "Varrendo a árvore de elementos\n",
      "Foram encontrados 37 indicadores\n",
      "Criando o Dicionário com os indicadores\n",
      "\n",
      ">>>>>>>>>> sao-joao-da-barra\n",
      "Acessando a url...\n",
      "Aguardando 20 segundos para o carregamento da página...\n"
     ]
    },
    {
     "name": "stderr",
     "output_type": "stream",
     "text": [
      "100%|██████████████████████████████████████████████████████████████████████████████████| 20/20 [00:20<00:00,  1.01s/it]\n"
     ]
    },
    {
     "name": "stdout",
     "output_type": "stream",
     "text": [
      "Pegando o elemento principal pela classe...\n",
      "Criando o Soup...\n",
      "Encontrando os elementos na página\n",
      "Varrendo a árvore de elementos\n",
      "Foram encontrados 37 indicadores\n",
      "Criando o Dicionário com os indicadores\n",
      "\n",
      ">>>>>>>>>> sao-joao-de-meriti\n",
      "Acessando a url...\n",
      "Aguardando 20 segundos para o carregamento da página...\n"
     ]
    },
    {
     "name": "stderr",
     "output_type": "stream",
     "text": [
      "100%|██████████████████████████████████████████████████████████████████████████████████| 20/20 [00:20<00:00,  1.01s/it]\n"
     ]
    },
    {
     "name": "stdout",
     "output_type": "stream",
     "text": [
      "Pegando o elemento principal pela classe...\n",
      "Criando o Soup...\n",
      "Encontrando os elementos na página\n",
      "Varrendo a árvore de elementos\n",
      "Foram encontrados 37 indicadores\n",
      "Criando o Dicionário com os indicadores\n",
      "\n",
      ">>>>>>>>>> sao-jose-de-uba\n",
      "Acessando a url...\n",
      "Aguardando 20 segundos para o carregamento da página...\n"
     ]
    },
    {
     "name": "stderr",
     "output_type": "stream",
     "text": [
      "100%|██████████████████████████████████████████████████████████████████████████████████| 20/20 [00:20<00:00,  1.01s/it]\n"
     ]
    },
    {
     "name": "stdout",
     "output_type": "stream",
     "text": [
      "Pegando o elemento principal pela classe...\n",
      "Criando o Soup...\n",
      "Encontrando os elementos na página\n",
      "Varrendo a árvore de elementos\n",
      "Foram encontrados 37 indicadores\n",
      "Criando o Dicionário com os indicadores\n",
      "\n",
      ">>>>>>>>>> sao-jose-do-vale-do-rio-preto\n",
      "Acessando a url...\n",
      "Aguardando 20 segundos para o carregamento da página...\n"
     ]
    },
    {
     "name": "stderr",
     "output_type": "stream",
     "text": [
      "100%|██████████████████████████████████████████████████████████████████████████████████| 20/20 [00:20<00:00,  1.01s/it]\n"
     ]
    },
    {
     "name": "stdout",
     "output_type": "stream",
     "text": [
      "Pegando o elemento principal pela classe...\n",
      "Criando o Soup...\n",
      "Encontrando os elementos na página\n",
      "Varrendo a árvore de elementos\n",
      "Foram encontrados 37 indicadores\n",
      "Criando o Dicionário com os indicadores\n",
      "\n",
      ">>>>>>>>>> sao-pedro-da-aldeia\n",
      "Acessando a url...\n",
      "Aguardando 20 segundos para o carregamento da página...\n"
     ]
    },
    {
     "name": "stderr",
     "output_type": "stream",
     "text": [
      "100%|██████████████████████████████████████████████████████████████████████████████████| 20/20 [00:20<00:00,  1.01s/it]\n"
     ]
    },
    {
     "name": "stdout",
     "output_type": "stream",
     "text": [
      "Pegando o elemento principal pela classe...\n",
      "Criando o Soup...\n",
      "Encontrando os elementos na página\n",
      "Varrendo a árvore de elementos\n",
      "Foram encontrados 37 indicadores\n",
      "Criando o Dicionário com os indicadores\n",
      "\n",
      ">>>>>>>>>> sao-sebastiao-do-alto\n",
      "Acessando a url...\n",
      "Aguardando 20 segundos para o carregamento da página...\n"
     ]
    },
    {
     "name": "stderr",
     "output_type": "stream",
     "text": [
      "100%|██████████████████████████████████████████████████████████████████████████████████| 20/20 [00:20<00:00,  1.01s/it]\n"
     ]
    },
    {
     "name": "stdout",
     "output_type": "stream",
     "text": [
      "Pegando o elemento principal pela classe...\n",
      "Criando o Soup...\n",
      "Encontrando os elementos na página\n",
      "Varrendo a árvore de elementos\n",
      "Foram encontrados 37 indicadores\n",
      "Criando o Dicionário com os indicadores\n",
      "\n",
      ">>>>>>>>>> sapucaia\n",
      "Acessando a url...\n",
      "Aguardando 20 segundos para o carregamento da página...\n"
     ]
    },
    {
     "name": "stderr",
     "output_type": "stream",
     "text": [
      "100%|██████████████████████████████████████████████████████████████████████████████████| 20/20 [00:20<00:00,  1.01s/it]\n"
     ]
    },
    {
     "name": "stdout",
     "output_type": "stream",
     "text": [
      "Pegando o elemento principal pela classe...\n",
      "Criando o Soup...\n",
      "Encontrando os elementos na página\n",
      "Varrendo a árvore de elementos\n",
      "Foram encontrados 37 indicadores\n",
      "Criando o Dicionário com os indicadores\n",
      "\n",
      ">>>>>>>>>> saquarema\n",
      "Acessando a url...\n",
      "Aguardando 20 segundos para o carregamento da página...\n"
     ]
    },
    {
     "name": "stderr",
     "output_type": "stream",
     "text": [
      "100%|██████████████████████████████████████████████████████████████████████████████████| 20/20 [00:20<00:00,  1.01s/it]\n"
     ]
    },
    {
     "name": "stdout",
     "output_type": "stream",
     "text": [
      "Pegando o elemento principal pela classe...\n",
      "Criando o Soup...\n",
      "Encontrando os elementos na página\n",
      "Varrendo a árvore de elementos\n",
      "Foram encontrados 37 indicadores\n",
      "Criando o Dicionário com os indicadores\n",
      "\n",
      ">>>>>>>>>> seropedica\n",
      "Acessando a url...\n",
      "Aguardando 20 segundos para o carregamento da página...\n"
     ]
    },
    {
     "name": "stderr",
     "output_type": "stream",
     "text": [
      "100%|██████████████████████████████████████████████████████████████████████████████████| 20/20 [00:20<00:00,  1.01s/it]\n"
     ]
    },
    {
     "name": "stdout",
     "output_type": "stream",
     "text": [
      "Pegando o elemento principal pela classe...\n",
      "Criando o Soup...\n",
      "Encontrando os elementos na página\n",
      "Varrendo a árvore de elementos\n",
      "Foram encontrados 37 indicadores\n",
      "Criando o Dicionário com os indicadores\n",
      "\n",
      ">>>>>>>>>> silva-jardim\n",
      "Acessando a url...\n",
      "Aguardando 20 segundos para o carregamento da página...\n"
     ]
    },
    {
     "name": "stderr",
     "output_type": "stream",
     "text": [
      "100%|██████████████████████████████████████████████████████████████████████████████████| 20/20 [00:20<00:00,  1.01s/it]\n"
     ]
    },
    {
     "name": "stdout",
     "output_type": "stream",
     "text": [
      "Pegando o elemento principal pela classe...\n",
      "Criando o Soup...\n",
      "Encontrando os elementos na página\n",
      "Varrendo a árvore de elementos\n",
      "Foram encontrados 37 indicadores\n",
      "Criando o Dicionário com os indicadores\n",
      "\n",
      ">>>>>>>>>> sumidouro\n",
      "Acessando a url...\n",
      "Aguardando 20 segundos para o carregamento da página...\n"
     ]
    },
    {
     "name": "stderr",
     "output_type": "stream",
     "text": [
      "100%|██████████████████████████████████████████████████████████████████████████████████| 20/20 [00:20<00:00,  1.01s/it]\n"
     ]
    },
    {
     "name": "stdout",
     "output_type": "stream",
     "text": [
      "Pegando o elemento principal pela classe...\n",
      "Criando o Soup...\n",
      "Encontrando os elementos na página\n",
      "Varrendo a árvore de elementos\n",
      "Foram encontrados 37 indicadores\n",
      "Criando o Dicionário com os indicadores\n",
      "\n",
      ">>>>>>>>>> tangua\n",
      "Acessando a url...\n",
      "Aguardando 20 segundos para o carregamento da página...\n"
     ]
    },
    {
     "name": "stderr",
     "output_type": "stream",
     "text": [
      "100%|██████████████████████████████████████████████████████████████████████████████████| 20/20 [00:20<00:00,  1.01s/it]\n"
     ]
    },
    {
     "name": "stdout",
     "output_type": "stream",
     "text": [
      "Pegando o elemento principal pela classe...\n",
      "Criando o Soup...\n",
      "Encontrando os elementos na página\n",
      "Varrendo a árvore de elementos\n",
      "Foram encontrados 37 indicadores\n",
      "Criando o Dicionário com os indicadores\n",
      "\n",
      ">>>>>>>>>> teresopolis\n",
      "Acessando a url...\n",
      "Aguardando 20 segundos para o carregamento da página...\n"
     ]
    },
    {
     "name": "stderr",
     "output_type": "stream",
     "text": [
      "100%|██████████████████████████████████████████████████████████████████████████████████| 20/20 [00:20<00:00,  1.01s/it]\n"
     ]
    },
    {
     "name": "stdout",
     "output_type": "stream",
     "text": [
      "Pegando o elemento principal pela classe...\n",
      "Criando o Soup...\n",
      "Encontrando os elementos na página\n",
      "Varrendo a árvore de elementos\n",
      "Foram encontrados 37 indicadores\n",
      "Criando o Dicionário com os indicadores\n",
      "\n",
      ">>>>>>>>>> trajano-de-moraes\n",
      "Acessando a url...\n",
      "Aguardando 20 segundos para o carregamento da página...\n"
     ]
    },
    {
     "name": "stderr",
     "output_type": "stream",
     "text": [
      "100%|██████████████████████████████████████████████████████████████████████████████████| 20/20 [00:20<00:00,  1.01s/it]\n"
     ]
    },
    {
     "name": "stdout",
     "output_type": "stream",
     "text": [
      "Pegando o elemento principal pela classe...\n",
      "Criando o Soup...\n",
      "Encontrando os elementos na página\n",
      "Varrendo a árvore de elementos\n",
      "Foram encontrados 37 indicadores\n",
      "Criando o Dicionário com os indicadores\n",
      "\n",
      ">>>>>>>>>> tres-rios\n",
      "Acessando a url...\n",
      "Aguardando 20 segundos para o carregamento da página...\n"
     ]
    },
    {
     "name": "stderr",
     "output_type": "stream",
     "text": [
      "100%|██████████████████████████████████████████████████████████████████████████████████| 20/20 [00:20<00:00,  1.01s/it]\n"
     ]
    },
    {
     "name": "stdout",
     "output_type": "stream",
     "text": [
      "Pegando o elemento principal pela classe...\n",
      "Criando o Soup...\n",
      "Encontrando os elementos na página\n",
      "Varrendo a árvore de elementos\n",
      "Foram encontrados 37 indicadores\n",
      "Criando o Dicionário com os indicadores\n",
      "\n",
      ">>>>>>>>>> valenca\n",
      "Acessando a url...\n",
      "Aguardando 20 segundos para o carregamento da página...\n"
     ]
    },
    {
     "name": "stderr",
     "output_type": "stream",
     "text": [
      "100%|██████████████████████████████████████████████████████████████████████████████████| 20/20 [00:20<00:00,  1.01s/it]\n"
     ]
    },
    {
     "name": "stdout",
     "output_type": "stream",
     "text": [
      "Pegando o elemento principal pela classe...\n",
      "Criando o Soup...\n",
      "Encontrando os elementos na página\n",
      "Varrendo a árvore de elementos\n",
      "Foram encontrados 37 indicadores\n",
      "Criando o Dicionário com os indicadores\n",
      "\n",
      ">>>>>>>>>> varre-sai\n",
      "Acessando a url...\n",
      "Aguardando 20 segundos para o carregamento da página...\n"
     ]
    },
    {
     "name": "stderr",
     "output_type": "stream",
     "text": [
      "100%|██████████████████████████████████████████████████████████████████████████████████| 20/20 [00:20<00:00,  1.01s/it]\n"
     ]
    },
    {
     "name": "stdout",
     "output_type": "stream",
     "text": [
      "Pegando o elemento principal pela classe...\n",
      "Criando o Soup...\n",
      "Encontrando os elementos na página\n",
      "Varrendo a árvore de elementos\n",
      "Foram encontrados 37 indicadores\n",
      "Criando o Dicionário com os indicadores\n",
      "\n",
      ">>>>>>>>>> vassouras\n",
      "Acessando a url...\n",
      "Aguardando 20 segundos para o carregamento da página...\n"
     ]
    },
    {
     "name": "stderr",
     "output_type": "stream",
     "text": [
      "100%|██████████████████████████████████████████████████████████████████████████████████| 20/20 [00:20<00:00,  1.01s/it]\n"
     ]
    },
    {
     "name": "stdout",
     "output_type": "stream",
     "text": [
      "Pegando o elemento principal pela classe...\n",
      "Criando o Soup...\n",
      "Encontrando os elementos na página\n",
      "Varrendo a árvore de elementos\n",
      "Foram encontrados 37 indicadores\n",
      "Criando o Dicionário com os indicadores\n",
      "\n",
      ">>>>>>>>>> volta-redonda\n",
      "Acessando a url...\n",
      "Aguardando 20 segundos para o carregamento da página...\n"
     ]
    },
    {
     "name": "stderr",
     "output_type": "stream",
     "text": [
      "100%|██████████████████████████████████████████████████████████████████████████████████| 20/20 [00:20<00:00,  1.01s/it]\n"
     ]
    },
    {
     "name": "stdout",
     "output_type": "stream",
     "text": [
      "Pegando o elemento principal pela classe...\n",
      "Criando o Soup...\n",
      "Encontrando os elementos na página\n",
      "Varrendo a árvore de elementos\n",
      "Foram encontrados 37 indicadores\n",
      "Criando o Dicionário com os indicadores\n",
      "Fechando o Webdriver...\n",
      "\n",
      "Webscrapper finalizado com sucesso!\n"
     ]
    }
   ],
   "source": [
    "for municipio in obterParametroMunicipios()[1:]:\n",
    "    print(\"\\n>>>>>>>>>>\", unidecode.unidecode(municipio))\n",
    "    soup = obterSoupPorMunicipio(unidecode.unidecode(municipio),20,driver)\n",
    "\n",
    "    dic = obterDicionarioDeIndicadores(soup)\n",
    "\n",
    "    other = pd.DataFrame(dic)\n",
    "    \n",
    "    dfIndicadores = dfIndicadores.join(other[[\"Valor\"]])\n",
    "    \n",
    "    dfIndicadores['Valor'] = pd.to_numeric(dfIndicadores['Valor'], errors='coerce').astype('float64')\n",
    "    \n",
    "    dfIndicadores = dfIndicadores.rename(columns={\"Valor\" : unidecode.unidecode(municipio)})\n",
    "\n",
    "fecharWebdriver(driver)    \n",
    "    \n",
    "print(\"\\nWebscrapper finalizado com sucesso!\")"
   ]
  },
  {
   "cell_type": "code",
   "execution_count": 14,
   "id": "85ae521d",
   "metadata": {},
   "outputs": [
    {
     "name": "stdout",
     "output_type": "stream",
     "text": [
      "Conectando no banco de dados...\n",
      "filtrando as linhas de interesse...\n",
      "Foram carregadas 29 linhas em 93 colunas no banco.\n",
      "Encerrando a conexão com o banco...\n"
     ]
    }
   ],
   "source": [
    "#renomear o índice\n",
    "dfIndicadores.index.name = 'id'\n",
    "\n",
    "#índice começando em 1\n",
    "dfIndicadores.index = dfIndicadores.index + 1\n",
    "\n",
    "dfIndicadores = dfIndicadores[:29]\n",
    "\n",
    "print(\"Conectando no banco de dados...\")\n",
    "ConexaoBD = sql.connect(BD)\n",
    "\n",
    "print(\"filtrando as linhas de interesse...\")\n",
    "dfIndicadores = dfIndicadores[:29]\n",
    "\n",
    "#dfIndicadores.to_sql('indicadores_ibge_municipios', ConexaoBD, if_exists='replace')\n",
    "#print(\"Foram carregadas\",dfIndicadores.shape[0], \"linhas em\", dfIndicadores.shape[1], \"colunas no banco.\" )\n",
    "\n",
    "print(\"Encerrando a conexão com o banco...\")\n",
    "ConexaoBD.close()"
   ]
  },
  {
   "cell_type": "code",
   "execution_count": 15,
   "id": "53e189ab",
   "metadata": {},
   "outputs": [
    {
     "data": {
      "text/html": [
       "<div>\n",
       "<style scoped>\n",
       "    .dataframe tbody tr th:only-of-type {\n",
       "        vertical-align: middle;\n",
       "    }\n",
       "\n",
       "    .dataframe tbody tr th {\n",
       "        vertical-align: top;\n",
       "    }\n",
       "\n",
       "    .dataframe thead th {\n",
       "        text-align: right;\n",
       "    }\n",
       "</style>\n",
       "<table border=\"1\" class=\"dataframe\">\n",
       "  <thead>\n",
       "    <tr style=\"text-align: right;\">\n",
       "      <th></th>\n",
       "      <th>indicador</th>\n",
       "      <th>angra-dos-reis</th>\n",
       "      <th>aperibe</th>\n",
       "      <th>araruama</th>\n",
       "      <th>areal</th>\n",
       "      <th>armacao-dos-buzios</th>\n",
       "      <th>arraial-do-cabo</th>\n",
       "      <th>barra-mansa</th>\n",
       "      <th>barra-do-pirai</th>\n",
       "      <th>belford-roxo</th>\n",
       "      <th>...</th>\n",
       "      <th>silva-jardim</th>\n",
       "      <th>sumidouro</th>\n",
       "      <th>tangua</th>\n",
       "      <th>teresopolis</th>\n",
       "      <th>trajano-de-moraes</th>\n",
       "      <th>tres-rios</th>\n",
       "      <th>valenca</th>\n",
       "      <th>varre-sai</th>\n",
       "      <th>vassouras</th>\n",
       "      <th>volta-redonda</th>\n",
       "    </tr>\n",
       "    <tr>\n",
       "      <th>id</th>\n",
       "      <th></th>\n",
       "      <th></th>\n",
       "      <th></th>\n",
       "      <th></th>\n",
       "      <th></th>\n",
       "      <th></th>\n",
       "      <th></th>\n",
       "      <th></th>\n",
       "      <th></th>\n",
       "      <th></th>\n",
       "      <th></th>\n",
       "      <th></th>\n",
       "      <th></th>\n",
       "      <th></th>\n",
       "      <th></th>\n",
       "      <th></th>\n",
       "      <th></th>\n",
       "      <th></th>\n",
       "      <th></th>\n",
       "      <th></th>\n",
       "      <th></th>\n",
       "    </tr>\n",
       "  </thead>\n",
       "  <tbody>\n",
       "    <tr>\n",
       "      <th>1</th>\n",
       "      <td>População estimada [2021]</td>\n",
       "      <td>210171.000</td>\n",
       "      <td>12036.000</td>\n",
       "      <td>136109.000</td>\n",
       "      <td>12763.000</td>\n",
       "      <td>35060.000</td>\n",
       "      <td>30827.000</td>\n",
       "      <td>185237.000</td>\n",
       "      <td>101139.000</td>\n",
       "      <td>515239.000</td>\n",
       "      <td>...</td>\n",
       "      <td>21775.000</td>\n",
       "      <td>15709.000</td>\n",
       "      <td>34898.000</td>\n",
       "      <td>185820.000</td>\n",
       "      <td>10653.000</td>\n",
       "      <td>82468.000</td>\n",
       "      <td>77202.000</td>\n",
       "      <td>11208.000</td>\n",
       "      <td>37262.000</td>\n",
       "      <td>274925.000</td>\n",
       "    </tr>\n",
       "    <tr>\n",
       "      <th>2</th>\n",
       "      <td>População no último censo [2010]</td>\n",
       "      <td>169511.000</td>\n",
       "      <td>10213.000</td>\n",
       "      <td>112008.000</td>\n",
       "      <td>11423.000</td>\n",
       "      <td>27560.000</td>\n",
       "      <td>27715.000</td>\n",
       "      <td>177813.000</td>\n",
       "      <td>94778.000</td>\n",
       "      <td>469332.000</td>\n",
       "      <td>...</td>\n",
       "      <td>21349.000</td>\n",
       "      <td>14900.000</td>\n",
       "      <td>30732.000</td>\n",
       "      <td>163746.000</td>\n",
       "      <td>10289.000</td>\n",
       "      <td>77432.000</td>\n",
       "      <td>71843.000</td>\n",
       "      <td>9475.000</td>\n",
       "      <td>34410.000</td>\n",
       "      <td>257803.000</td>\n",
       "    </tr>\n",
       "    <tr>\n",
       "      <th>3</th>\n",
       "      <td>Densidade demográfica [2010]</td>\n",
       "      <td>205.450</td>\n",
       "      <td>107.920</td>\n",
       "      <td>175.550</td>\n",
       "      <td>102.990</td>\n",
       "      <td>392.160</td>\n",
       "      <td>172.910</td>\n",
       "      <td>324.940</td>\n",
       "      <td>163.700</td>\n",
       "      <td>6031.380</td>\n",
       "      <td>...</td>\n",
       "      <td>22.770</td>\n",
       "      <td>37.670</td>\n",
       "      <td>211.210</td>\n",
       "      <td>212.490</td>\n",
       "      <td>17.440</td>\n",
       "      <td>237.420</td>\n",
       "      <td>55.060</td>\n",
       "      <td>49.850</td>\n",
       "      <td>63.940</td>\n",
       "      <td>1412.750</td>\n",
       "    </tr>\n",
       "    <tr>\n",
       "      <th>4</th>\n",
       "      <td>Salário médio mensal dos trabalhadores formais...</td>\n",
       "      <td>3.000</td>\n",
       "      <td>1.600</td>\n",
       "      <td>1.800</td>\n",
       "      <td>2.200</td>\n",
       "      <td>1.900</td>\n",
       "      <td>1.900</td>\n",
       "      <td>2.000</td>\n",
       "      <td>1.700</td>\n",
       "      <td>2.300</td>\n",
       "      <td>...</td>\n",
       "      <td>2.100</td>\n",
       "      <td>2.200</td>\n",
       "      <td>2.000</td>\n",
       "      <td>2.000</td>\n",
       "      <td>2.000</td>\n",
       "      <td>1.800</td>\n",
       "      <td>2.000</td>\n",
       "      <td>2.100</td>\n",
       "      <td>2.200</td>\n",
       "      <td>2.100</td>\n",
       "    </tr>\n",
       "    <tr>\n",
       "      <th>5</th>\n",
       "      <td>Pessoal ocupado [2020]</td>\n",
       "      <td>35280.000</td>\n",
       "      <td>2067.000</td>\n",
       "      <td>23123.000</td>\n",
       "      <td>3440.000</td>\n",
       "      <td>14209.000</td>\n",
       "      <td>6578.000</td>\n",
       "      <td>35733.000</td>\n",
       "      <td>17576.000</td>\n",
       "      <td>31831.000</td>\n",
       "      <td>...</td>\n",
       "      <td>4189.000</td>\n",
       "      <td>2002.000</td>\n",
       "      <td>4441.000</td>\n",
       "      <td>41414.000</td>\n",
       "      <td>1542.000</td>\n",
       "      <td>24118.000</td>\n",
       "      <td>12296.000</td>\n",
       "      <td>1210.000</td>\n",
       "      <td>8601.000</td>\n",
       "      <td>80394.000</td>\n",
       "    </tr>\n",
       "    <tr>\n",
       "      <th>6</th>\n",
       "      <td>População ocupada [2020]</td>\n",
       "      <td>17.000</td>\n",
       "      <td>17.400</td>\n",
       "      <td>17.200</td>\n",
       "      <td>27.200</td>\n",
       "      <td>41.200</td>\n",
       "      <td>21.500</td>\n",
       "      <td>19.300</td>\n",
       "      <td>17.400</td>\n",
       "      <td>6.200</td>\n",
       "      <td>...</td>\n",
       "      <td>19.200</td>\n",
       "      <td>12.800</td>\n",
       "      <td>12.800</td>\n",
       "      <td>22.500</td>\n",
       "      <td>14.500</td>\n",
       "      <td>29.400</td>\n",
       "      <td>16.000</td>\n",
       "      <td>10.900</td>\n",
       "      <td>23.200</td>\n",
       "      <td>29.300</td>\n",
       "    </tr>\n",
       "    <tr>\n",
       "      <th>7</th>\n",
       "      <td>Percentual da população com rendimento nominal...</td>\n",
       "      <td>34.900</td>\n",
       "      <td>33.100</td>\n",
       "      <td>36.100</td>\n",
       "      <td>35.900</td>\n",
       "      <td>31.100</td>\n",
       "      <td>35.400</td>\n",
       "      <td>34.500</td>\n",
       "      <td>33.800</td>\n",
       "      <td>39.300</td>\n",
       "      <td>...</td>\n",
       "      <td>39.600</td>\n",
       "      <td>37.000</td>\n",
       "      <td>38.300</td>\n",
       "      <td>32.300</td>\n",
       "      <td>35.500</td>\n",
       "      <td>31.600</td>\n",
       "      <td>32.600</td>\n",
       "      <td>34.900</td>\n",
       "      <td>34.200</td>\n",
       "      <td>32.700</td>\n",
       "    </tr>\n",
       "    <tr>\n",
       "      <th>8</th>\n",
       "      <td>Taxa de escolarização de 6 a 14 anos de idade ...</td>\n",
       "      <td>96.400</td>\n",
       "      <td>96.700</td>\n",
       "      <td>98.300</td>\n",
       "      <td>98.000</td>\n",
       "      <td>97.600</td>\n",
       "      <td>99.200</td>\n",
       "      <td>98.400</td>\n",
       "      <td>98.700</td>\n",
       "      <td>96.200</td>\n",
       "      <td>...</td>\n",
       "      <td>98.800</td>\n",
       "      <td>93.500</td>\n",
       "      <td>98.100</td>\n",
       "      <td>96.200</td>\n",
       "      <td>98.400</td>\n",
       "      <td>97.900</td>\n",
       "      <td>97.700</td>\n",
       "      <td>96.800</td>\n",
       "      <td>98.800</td>\n",
       "      <td>98.500</td>\n",
       "    </tr>\n",
       "    <tr>\n",
       "      <th>9</th>\n",
       "      <td>IDEB – Anos iniciais do ensino fundamental (Re...</td>\n",
       "      <td>5.100</td>\n",
       "      <td>5.500</td>\n",
       "      <td>5.400</td>\n",
       "      <td>6.000</td>\n",
       "      <td>5.800</td>\n",
       "      <td>5.600</td>\n",
       "      <td>5.200</td>\n",
       "      <td>5.400</td>\n",
       "      <td>4.700</td>\n",
       "      <td>...</td>\n",
       "      <td>5.200</td>\n",
       "      <td>4.900</td>\n",
       "      <td>4.900</td>\n",
       "      <td>6.000</td>\n",
       "      <td>5.800</td>\n",
       "      <td>6.000</td>\n",
       "      <td>5.000</td>\n",
       "      <td>5.300</td>\n",
       "      <td>5.200</td>\n",
       "      <td>6.200</td>\n",
       "    </tr>\n",
       "    <tr>\n",
       "      <th>10</th>\n",
       "      <td>IDEB – Anos finais do ensino fundamental (Rede...</td>\n",
       "      <td>3.700</td>\n",
       "      <td>4.900</td>\n",
       "      <td>4.200</td>\n",
       "      <td>NaN</td>\n",
       "      <td>4.300</td>\n",
       "      <td>4.700</td>\n",
       "      <td>4.500</td>\n",
       "      <td>4.200</td>\n",
       "      <td>3.800</td>\n",
       "      <td>...</td>\n",
       "      <td>3.800</td>\n",
       "      <td>5.100</td>\n",
       "      <td>4.000</td>\n",
       "      <td>4.800</td>\n",
       "      <td>5.300</td>\n",
       "      <td>4.500</td>\n",
       "      <td>4.700</td>\n",
       "      <td>4.300</td>\n",
       "      <td>4.200</td>\n",
       "      <td>5.000</td>\n",
       "    </tr>\n",
       "    <tr>\n",
       "      <th>11</th>\n",
       "      <td>Matrículas no ensino fundamental [2021]</td>\n",
       "      <td>21729.000</td>\n",
       "      <td>1002.000</td>\n",
       "      <td>17546.000</td>\n",
       "      <td>1379.000</td>\n",
       "      <td>6536.000</td>\n",
       "      <td>4118.000</td>\n",
       "      <td>19421.000</td>\n",
       "      <td>9845.000</td>\n",
       "      <td>57072.000</td>\n",
       "      <td>...</td>\n",
       "      <td>3112.000</td>\n",
       "      <td>1897.000</td>\n",
       "      <td>4329.000</td>\n",
       "      <td>20840.000</td>\n",
       "      <td>1291.000</td>\n",
       "      <td>10844.000</td>\n",
       "      <td>8584.000</td>\n",
       "      <td>1521.000</td>\n",
       "      <td>4330.000</td>\n",
       "      <td>31825.000</td>\n",
       "    </tr>\n",
       "    <tr>\n",
       "      <th>12</th>\n",
       "      <td>Matrículas no ensino médio [2021]</td>\n",
       "      <td>6248.000</td>\n",
       "      <td>324.000</td>\n",
       "      <td>4499.000</td>\n",
       "      <td>321.000</td>\n",
       "      <td>1708.000</td>\n",
       "      <td>1188.000</td>\n",
       "      <td>4935.000</td>\n",
       "      <td>2516.000</td>\n",
       "      <td>13337.000</td>\n",
       "      <td>...</td>\n",
       "      <td>741.000</td>\n",
       "      <td>300.000</td>\n",
       "      <td>826.000</td>\n",
       "      <td>5684.000</td>\n",
       "      <td>324.000</td>\n",
       "      <td>2933.000</td>\n",
       "      <td>2299.000</td>\n",
       "      <td>424.000</td>\n",
       "      <td>1228.000</td>\n",
       "      <td>9511.000</td>\n",
       "    </tr>\n",
       "    <tr>\n",
       "      <th>13</th>\n",
       "      <td>Docentes no ensino fundamental [2021]</td>\n",
       "      <td>1193.000</td>\n",
       "      <td>109.000</td>\n",
       "      <td>1263.000</td>\n",
       "      <td>97.000</td>\n",
       "      <td>521.000</td>\n",
       "      <td>258.000</td>\n",
       "      <td>1197.000</td>\n",
       "      <td>693.000</td>\n",
       "      <td>3075.000</td>\n",
       "      <td>...</td>\n",
       "      <td>207.000</td>\n",
       "      <td>105.000</td>\n",
       "      <td>250.000</td>\n",
       "      <td>1100.000</td>\n",
       "      <td>133.000</td>\n",
       "      <td>589.000</td>\n",
       "      <td>572.000</td>\n",
       "      <td>122.000</td>\n",
       "      <td>295.000</td>\n",
       "      <td>1583.000</td>\n",
       "    </tr>\n",
       "    <tr>\n",
       "      <th>14</th>\n",
       "      <td>Docentes no ensino médio [2021]</td>\n",
       "      <td>463.000</td>\n",
       "      <td>48.000</td>\n",
       "      <td>370.000</td>\n",
       "      <td>38.000</td>\n",
       "      <td>146.000</td>\n",
       "      <td>136.000</td>\n",
       "      <td>456.000</td>\n",
       "      <td>280.000</td>\n",
       "      <td>1060.000</td>\n",
       "      <td>...</td>\n",
       "      <td>57.000</td>\n",
       "      <td>30.000</td>\n",
       "      <td>73.000</td>\n",
       "      <td>473.000</td>\n",
       "      <td>38.000</td>\n",
       "      <td>332.000</td>\n",
       "      <td>293.000</td>\n",
       "      <td>46.000</td>\n",
       "      <td>136.000</td>\n",
       "      <td>862.000</td>\n",
       "    </tr>\n",
       "    <tr>\n",
       "      <th>15</th>\n",
       "      <td>Número de estabelecimentos de ensino fundament...</td>\n",
       "      <td>108.000</td>\n",
       "      <td>7.000</td>\n",
       "      <td>62.000</td>\n",
       "      <td>13.000</td>\n",
       "      <td>20.000</td>\n",
       "      <td>13.000</td>\n",
       "      <td>79.000</td>\n",
       "      <td>52.000</td>\n",
       "      <td>203.000</td>\n",
       "      <td>...</td>\n",
       "      <td>19.000</td>\n",
       "      <td>15.000</td>\n",
       "      <td>18.000</td>\n",
       "      <td>101.000</td>\n",
       "      <td>18.000</td>\n",
       "      <td>45.000</td>\n",
       "      <td>53.000</td>\n",
       "      <td>15.000</td>\n",
       "      <td>25.000</td>\n",
       "      <td>94.000</td>\n",
       "    </tr>\n",
       "    <tr>\n",
       "      <th>16</th>\n",
       "      <td>Número de estabelecimentos de ensino médio [2021]</td>\n",
       "      <td>29.000</td>\n",
       "      <td>2.000</td>\n",
       "      <td>22.000</td>\n",
       "      <td>2.000</td>\n",
       "      <td>6.000</td>\n",
       "      <td>6.000</td>\n",
       "      <td>19.000</td>\n",
       "      <td>15.000</td>\n",
       "      <td>54.000</td>\n",
       "      <td>...</td>\n",
       "      <td>3.000</td>\n",
       "      <td>2.000</td>\n",
       "      <td>2.000</td>\n",
       "      <td>22.000</td>\n",
       "      <td>3.000</td>\n",
       "      <td>19.000</td>\n",
       "      <td>15.000</td>\n",
       "      <td>2.000</td>\n",
       "      <td>7.000</td>\n",
       "      <td>44.000</td>\n",
       "    </tr>\n",
       "    <tr>\n",
       "      <th>17</th>\n",
       "      <td>PIB per capita [2019]</td>\n",
       "      <td>48212.880</td>\n",
       "      <td>16603.310</td>\n",
       "      <td>27785.330</td>\n",
       "      <td>28174.840</td>\n",
       "      <td>77577.130</td>\n",
       "      <td>84241.590</td>\n",
       "      <td>29754.560</td>\n",
       "      <td>21048.890</td>\n",
       "      <td>15785.960</td>\n",
       "      <td>...</td>\n",
       "      <td>22724.230</td>\n",
       "      <td>28031.260</td>\n",
       "      <td>16878.100</td>\n",
       "      <td>29174.070</td>\n",
       "      <td>19459.230</td>\n",
       "      <td>53338.230</td>\n",
       "      <td>26803.400</td>\n",
       "      <td>17872.640</td>\n",
       "      <td>29585.010</td>\n",
       "      <td>40355.980</td>\n",
       "    </tr>\n",
       "    <tr>\n",
       "      <th>18</th>\n",
       "      <td>Percentual das receitas oriundas de fontes ext...</td>\n",
       "      <td>64.500</td>\n",
       "      <td>NaN</td>\n",
       "      <td>NaN</td>\n",
       "      <td>74.000</td>\n",
       "      <td>70.600</td>\n",
       "      <td>68.500</td>\n",
       "      <td>69.700</td>\n",
       "      <td>70.300</td>\n",
       "      <td>77.300</td>\n",
       "      <td>...</td>\n",
       "      <td>NaN</td>\n",
       "      <td>81.600</td>\n",
       "      <td>87.900</td>\n",
       "      <td>69.600</td>\n",
       "      <td>86.300</td>\n",
       "      <td>78.100</td>\n",
       "      <td>NaN</td>\n",
       "      <td>83.100</td>\n",
       "      <td>82.500</td>\n",
       "      <td>63.700</td>\n",
       "    </tr>\n",
       "    <tr>\n",
       "      <th>19</th>\n",
       "      <td>Índice de Desenvolvimento Humano Municipal (ID...</td>\n",
       "      <td>0.724</td>\n",
       "      <td>0.692</td>\n",
       "      <td>0.718</td>\n",
       "      <td>0.684</td>\n",
       "      <td>0.728</td>\n",
       "      <td>0.733</td>\n",
       "      <td>0.729</td>\n",
       "      <td>0.733</td>\n",
       "      <td>0.684</td>\n",
       "      <td>...</td>\n",
       "      <td>0.654</td>\n",
       "      <td>0.611</td>\n",
       "      <td>0.654</td>\n",
       "      <td>0.730</td>\n",
       "      <td>0.667</td>\n",
       "      <td>0.725</td>\n",
       "      <td>0.738</td>\n",
       "      <td>0.659</td>\n",
       "      <td>0.714</td>\n",
       "      <td>0.771</td>\n",
       "    </tr>\n",
       "    <tr>\n",
       "      <th>20</th>\n",
       "      <td>Total de receitas realizadas [2017]</td>\n",
       "      <td>1048674.530</td>\n",
       "      <td>44282.040</td>\n",
       "      <td>319409.470</td>\n",
       "      <td>59613.310</td>\n",
       "      <td>239846.230</td>\n",
       "      <td>129189.900</td>\n",
       "      <td>506164.130</td>\n",
       "      <td>222231.640</td>\n",
       "      <td>612861.740</td>\n",
       "      <td>...</td>\n",
       "      <td>140087.530</td>\n",
       "      <td>67426.730</td>\n",
       "      <td>93356.390</td>\n",
       "      <td>461159.070</td>\n",
       "      <td>55090.270</td>\n",
       "      <td>264323.770</td>\n",
       "      <td>186322.900</td>\n",
       "      <td>53100.930</td>\n",
       "      <td>137029.580</td>\n",
       "      <td>869283.570</td>\n",
       "    </tr>\n",
       "    <tr>\n",
       "      <th>21</th>\n",
       "      <td>Total de despesas empenhadas [2017]</td>\n",
       "      <td>844589.270</td>\n",
       "      <td>51373.380</td>\n",
       "      <td>300538.070</td>\n",
       "      <td>53040.680</td>\n",
       "      <td>201183.520</td>\n",
       "      <td>134584.690</td>\n",
       "      <td>464462.820</td>\n",
       "      <td>201994.190</td>\n",
       "      <td>612697.530</td>\n",
       "      <td>...</td>\n",
       "      <td>119905.990</td>\n",
       "      <td>55359.940</td>\n",
       "      <td>89046.690</td>\n",
       "      <td>443127.670</td>\n",
       "      <td>49211.940</td>\n",
       "      <td>250872.140</td>\n",
       "      <td>167226.200</td>\n",
       "      <td>42821.870</td>\n",
       "      <td>122405.910</td>\n",
       "      <td>825227.070</td>\n",
       "    </tr>\n",
       "    <tr>\n",
       "      <th>22</th>\n",
       "      <td>Mortalidade Infantil [2020]</td>\n",
       "      <td>13.660</td>\n",
       "      <td>NaN</td>\n",
       "      <td>9.000</td>\n",
       "      <td>NaN</td>\n",
       "      <td>14.040</td>\n",
       "      <td>6.990</td>\n",
       "      <td>9.600</td>\n",
       "      <td>12.330</td>\n",
       "      <td>15.840</td>\n",
       "      <td>...</td>\n",
       "      <td>7.580</td>\n",
       "      <td>8.770</td>\n",
       "      <td>12.050</td>\n",
       "      <td>9.140</td>\n",
       "      <td>8.700</td>\n",
       "      <td>14.730</td>\n",
       "      <td>8.940</td>\n",
       "      <td>12.200</td>\n",
       "      <td>12.850</td>\n",
       "      <td>11.930</td>\n",
       "    </tr>\n",
       "    <tr>\n",
       "      <th>23</th>\n",
       "      <td>Internações por diarreia [2016]</td>\n",
       "      <td>0.100</td>\n",
       "      <td>0.400</td>\n",
       "      <td>0.000</td>\n",
       "      <td>0.100</td>\n",
       "      <td>NaN</td>\n",
       "      <td>0.400</td>\n",
       "      <td>0.100</td>\n",
       "      <td>1.900</td>\n",
       "      <td>0.600</td>\n",
       "      <td>...</td>\n",
       "      <td>0.400</td>\n",
       "      <td>0.900</td>\n",
       "      <td>0.200</td>\n",
       "      <td>0.300</td>\n",
       "      <td>0.400</td>\n",
       "      <td>1.100</td>\n",
       "      <td>1.100</td>\n",
       "      <td>2.200</td>\n",
       "      <td>0.200</td>\n",
       "      <td>0.100</td>\n",
       "    </tr>\n",
       "    <tr>\n",
       "      <th>24</th>\n",
       "      <td>Estabelecimentos de Saúde SUS [2009]</td>\n",
       "      <td>58.000</td>\n",
       "      <td>8.000</td>\n",
       "      <td>32.000</td>\n",
       "      <td>11.000</td>\n",
       "      <td>16.000</td>\n",
       "      <td>11.000</td>\n",
       "      <td>69.000</td>\n",
       "      <td>41.000</td>\n",
       "      <td>58.000</td>\n",
       "      <td>...</td>\n",
       "      <td>19.000</td>\n",
       "      <td>15.000</td>\n",
       "      <td>10.000</td>\n",
       "      <td>48.000</td>\n",
       "      <td>11.000</td>\n",
       "      <td>33.000</td>\n",
       "      <td>48.000</td>\n",
       "      <td>5.000</td>\n",
       "      <td>25.000</td>\n",
       "      <td>94.000</td>\n",
       "    </tr>\n",
       "    <tr>\n",
       "      <th>25</th>\n",
       "      <td>Área da unidade territorial [2021]</td>\n",
       "      <td>813.420</td>\n",
       "      <td>94.542</td>\n",
       "      <td>638.276</td>\n",
       "      <td>110.724</td>\n",
       "      <td>70.977</td>\n",
       "      <td>152.106</td>\n",
       "      <td>547.133</td>\n",
       "      <td>584.610</td>\n",
       "      <td>78.985</td>\n",
       "      <td>...</td>\n",
       "      <td>937.755</td>\n",
       "      <td>413.407</td>\n",
       "      <td>143.007</td>\n",
       "      <td>773.338</td>\n",
       "      <td>591.151</td>\n",
       "      <td>322.843</td>\n",
       "      <td>1300.767</td>\n",
       "      <td>201.938</td>\n",
       "      <td>536.073</td>\n",
       "      <td>182.105</td>\n",
       "    </tr>\n",
       "    <tr>\n",
       "      <th>26</th>\n",
       "      <td>Esgotamento sanitário adequado [2010]</td>\n",
       "      <td>84.900</td>\n",
       "      <td>79.100</td>\n",
       "      <td>63.100</td>\n",
       "      <td>47.000</td>\n",
       "      <td>89.600</td>\n",
       "      <td>91.100</td>\n",
       "      <td>81.500</td>\n",
       "      <td>77.200</td>\n",
       "      <td>81.400</td>\n",
       "      <td>...</td>\n",
       "      <td>61.300</td>\n",
       "      <td>29.000</td>\n",
       "      <td>58.900</td>\n",
       "      <td>67.200</td>\n",
       "      <td>31.400</td>\n",
       "      <td>82.100</td>\n",
       "      <td>72.300</td>\n",
       "      <td>63.300</td>\n",
       "      <td>73.500</td>\n",
       "      <td>96.100</td>\n",
       "    </tr>\n",
       "    <tr>\n",
       "      <th>27</th>\n",
       "      <td>Arborização de vias públicas [2010]</td>\n",
       "      <td>26.600</td>\n",
       "      <td>98.000</td>\n",
       "      <td>74.700</td>\n",
       "      <td>57.900</td>\n",
       "      <td>52.700</td>\n",
       "      <td>61.600</td>\n",
       "      <td>55.700</td>\n",
       "      <td>69.800</td>\n",
       "      <td>35.100</td>\n",
       "      <td>...</td>\n",
       "      <td>65.100</td>\n",
       "      <td>94.600</td>\n",
       "      <td>73.000</td>\n",
       "      <td>37.000</td>\n",
       "      <td>80.200</td>\n",
       "      <td>69.600</td>\n",
       "      <td>47.700</td>\n",
       "      <td>76.600</td>\n",
       "      <td>63.200</td>\n",
       "      <td>63.400</td>\n",
       "    </tr>\n",
       "    <tr>\n",
       "      <th>28</th>\n",
       "      <td>Urbanização de vias públicas [2010]</td>\n",
       "      <td>33.300</td>\n",
       "      <td>54.000</td>\n",
       "      <td>10.800</td>\n",
       "      <td>50.000</td>\n",
       "      <td>25.200</td>\n",
       "      <td>51.200</td>\n",
       "      <td>71.000</td>\n",
       "      <td>39.400</td>\n",
       "      <td>38.100</td>\n",
       "      <td>...</td>\n",
       "      <td>24.300</td>\n",
       "      <td>39.500</td>\n",
       "      <td>28.200</td>\n",
       "      <td>54.700</td>\n",
       "      <td>39.900</td>\n",
       "      <td>36.100</td>\n",
       "      <td>32.100</td>\n",
       "      <td>64.200</td>\n",
       "      <td>32.700</td>\n",
       "      <td>75.100</td>\n",
       "    </tr>\n",
       "    <tr>\n",
       "      <th>29</th>\n",
       "      <td>População exposta ao risco [2010]</td>\n",
       "      <td>66000.000</td>\n",
       "      <td>NaN</td>\n",
       "      <td>NaN</td>\n",
       "      <td>5036.000</td>\n",
       "      <td>NaN</td>\n",
       "      <td>NaN</td>\n",
       "      <td>NaN</td>\n",
       "      <td>NaN</td>\n",
       "      <td>53204.000</td>\n",
       "      <td>...</td>\n",
       "      <td>NaN</td>\n",
       "      <td>2381.000</td>\n",
       "      <td>NaN</td>\n",
       "      <td>45772.000</td>\n",
       "      <td>NaN</td>\n",
       "      <td>NaN</td>\n",
       "      <td>NaN</td>\n",
       "      <td>NaN</td>\n",
       "      <td>NaN</td>\n",
       "      <td>NaN</td>\n",
       "    </tr>\n",
       "  </tbody>\n",
       "</table>\n",
       "<p>29 rows × 93 columns</p>\n",
       "</div>"
      ],
      "text/plain": [
       "                                            indicador  angra-dos-reis  \\\n",
       "id                                                                      \n",
       "1                           População estimada [2021]      210171.000   \n",
       "2                    População no último censo [2010]      169511.000   \n",
       "3                        Densidade demográfica [2010]         205.450   \n",
       "4   Salário médio mensal dos trabalhadores formais...           3.000   \n",
       "5                              Pessoal ocupado [2020]       35280.000   \n",
       "6                            População ocupada [2020]          17.000   \n",
       "7   Percentual da população com rendimento nominal...          34.900   \n",
       "8   Taxa de escolarização de 6 a 14 anos de idade ...          96.400   \n",
       "9   IDEB – Anos iniciais do ensino fundamental (Re...           5.100   \n",
       "10  IDEB – Anos finais do ensino fundamental (Rede...           3.700   \n",
       "11            Matrículas no ensino fundamental [2021]       21729.000   \n",
       "12                  Matrículas no ensino médio [2021]        6248.000   \n",
       "13              Docentes no ensino fundamental [2021]        1193.000   \n",
       "14                    Docentes no ensino médio [2021]         463.000   \n",
       "15  Número de estabelecimentos de ensino fundament...         108.000   \n",
       "16  Número de estabelecimentos de ensino médio [2021]          29.000   \n",
       "17                              PIB per capita [2019]       48212.880   \n",
       "18  Percentual das receitas oriundas de fontes ext...          64.500   \n",
       "19  Índice de Desenvolvimento Humano Municipal (ID...           0.724   \n",
       "20                Total de receitas realizadas [2017]     1048674.530   \n",
       "21                Total de despesas empenhadas [2017]      844589.270   \n",
       "22                        Mortalidade Infantil [2020]          13.660   \n",
       "23                    Internações por diarreia [2016]           0.100   \n",
       "24               Estabelecimentos de Saúde SUS [2009]          58.000   \n",
       "25                 Área da unidade territorial [2021]         813.420   \n",
       "26              Esgotamento sanitário adequado [2010]          84.900   \n",
       "27                Arborização de vias públicas [2010]          26.600   \n",
       "28                Urbanização de vias públicas [2010]          33.300   \n",
       "29                População exposta ao risco [2010]       66000.000   \n",
       "\n",
       "      aperibe    araruama      areal  armacao-dos-buzios  arraial-do-cabo  \\\n",
       "id                                                                          \n",
       "1   12036.000  136109.000  12763.000           35060.000        30827.000   \n",
       "2   10213.000  112008.000  11423.000           27560.000        27715.000   \n",
       "3     107.920     175.550    102.990             392.160          172.910   \n",
       "4       1.600       1.800      2.200               1.900            1.900   \n",
       "5    2067.000   23123.000   3440.000           14209.000         6578.000   \n",
       "6      17.400      17.200     27.200              41.200           21.500   \n",
       "7      33.100      36.100     35.900              31.100           35.400   \n",
       "8      96.700      98.300     98.000              97.600           99.200   \n",
       "9       5.500       5.400      6.000               5.800            5.600   \n",
       "10      4.900       4.200        NaN               4.300            4.700   \n",
       "11   1002.000   17546.000   1379.000            6536.000         4118.000   \n",
       "12    324.000    4499.000    321.000            1708.000         1188.000   \n",
       "13    109.000    1263.000     97.000             521.000          258.000   \n",
       "14     48.000     370.000     38.000             146.000          136.000   \n",
       "15      7.000      62.000     13.000              20.000           13.000   \n",
       "16      2.000      22.000      2.000               6.000            6.000   \n",
       "17  16603.310   27785.330  28174.840           77577.130        84241.590   \n",
       "18        NaN         NaN     74.000              70.600           68.500   \n",
       "19      0.692       0.718      0.684               0.728            0.733   \n",
       "20  44282.040  319409.470  59613.310          239846.230       129189.900   \n",
       "21  51373.380  300538.070  53040.680          201183.520       134584.690   \n",
       "22        NaN       9.000        NaN              14.040            6.990   \n",
       "23      0.400       0.000      0.100                 NaN            0.400   \n",
       "24      8.000      32.000     11.000              16.000           11.000   \n",
       "25     94.542     638.276    110.724              70.977          152.106   \n",
       "26     79.100      63.100     47.000              89.600           91.100   \n",
       "27     98.000      74.700     57.900              52.700           61.600   \n",
       "28     54.000      10.800     50.000              25.200           51.200   \n",
       "29        NaN         NaN   5036.000                 NaN              NaN   \n",
       "\n",
       "    barra-mansa  barra-do-pirai  belford-roxo  ...  silva-jardim  sumidouro  \\\n",
       "id                                             ...                            \n",
       "1    185237.000      101139.000    515239.000  ...     21775.000  15709.000   \n",
       "2    177813.000       94778.000    469332.000  ...     21349.000  14900.000   \n",
       "3       324.940         163.700      6031.380  ...        22.770     37.670   \n",
       "4         2.000           1.700         2.300  ...         2.100      2.200   \n",
       "5     35733.000       17576.000     31831.000  ...      4189.000   2002.000   \n",
       "6        19.300          17.400         6.200  ...        19.200     12.800   \n",
       "7        34.500          33.800        39.300  ...        39.600     37.000   \n",
       "8        98.400          98.700        96.200  ...        98.800     93.500   \n",
       "9         5.200           5.400         4.700  ...         5.200      4.900   \n",
       "10        4.500           4.200         3.800  ...         3.800      5.100   \n",
       "11    19421.000        9845.000     57072.000  ...      3112.000   1897.000   \n",
       "12     4935.000        2516.000     13337.000  ...       741.000    300.000   \n",
       "13     1197.000         693.000      3075.000  ...       207.000    105.000   \n",
       "14      456.000         280.000      1060.000  ...        57.000     30.000   \n",
       "15       79.000          52.000       203.000  ...        19.000     15.000   \n",
       "16       19.000          15.000        54.000  ...         3.000      2.000   \n",
       "17    29754.560       21048.890     15785.960  ...     22724.230  28031.260   \n",
       "18       69.700          70.300        77.300  ...           NaN     81.600   \n",
       "19        0.729           0.733         0.684  ...         0.654      0.611   \n",
       "20   506164.130      222231.640    612861.740  ...    140087.530  67426.730   \n",
       "21   464462.820      201994.190    612697.530  ...    119905.990  55359.940   \n",
       "22        9.600          12.330        15.840  ...         7.580      8.770   \n",
       "23        0.100           1.900         0.600  ...         0.400      0.900   \n",
       "24       69.000          41.000        58.000  ...        19.000     15.000   \n",
       "25      547.133         584.610        78.985  ...       937.755    413.407   \n",
       "26       81.500          77.200        81.400  ...        61.300     29.000   \n",
       "27       55.700          69.800        35.100  ...        65.100     94.600   \n",
       "28       71.000          39.400        38.100  ...        24.300     39.500   \n",
       "29          NaN             NaN     53204.000  ...           NaN   2381.000   \n",
       "\n",
       "       tangua  teresopolis  trajano-de-moraes   tres-rios     valenca  \\\n",
       "id                                                                      \n",
       "1   34898.000   185820.000          10653.000   82468.000   77202.000   \n",
       "2   30732.000   163746.000          10289.000   77432.000   71843.000   \n",
       "3     211.210      212.490             17.440     237.420      55.060   \n",
       "4       2.000        2.000              2.000       1.800       2.000   \n",
       "5    4441.000    41414.000           1542.000   24118.000   12296.000   \n",
       "6      12.800       22.500             14.500      29.400      16.000   \n",
       "7      38.300       32.300             35.500      31.600      32.600   \n",
       "8      98.100       96.200             98.400      97.900      97.700   \n",
       "9       4.900        6.000              5.800       6.000       5.000   \n",
       "10      4.000        4.800              5.300       4.500       4.700   \n",
       "11   4329.000    20840.000           1291.000   10844.000    8584.000   \n",
       "12    826.000     5684.000            324.000    2933.000    2299.000   \n",
       "13    250.000     1100.000            133.000     589.000     572.000   \n",
       "14     73.000      473.000             38.000     332.000     293.000   \n",
       "15     18.000      101.000             18.000      45.000      53.000   \n",
       "16      2.000       22.000              3.000      19.000      15.000   \n",
       "17  16878.100    29174.070          19459.230   53338.230   26803.400   \n",
       "18     87.900       69.600             86.300      78.100         NaN   \n",
       "19      0.654        0.730              0.667       0.725       0.738   \n",
       "20  93356.390   461159.070          55090.270  264323.770  186322.900   \n",
       "21  89046.690   443127.670          49211.940  250872.140  167226.200   \n",
       "22     12.050        9.140              8.700      14.730       8.940   \n",
       "23      0.200        0.300              0.400       1.100       1.100   \n",
       "24     10.000       48.000             11.000      33.000      48.000   \n",
       "25    143.007      773.338            591.151     322.843    1300.767   \n",
       "26     58.900       67.200             31.400      82.100      72.300   \n",
       "27     73.000       37.000             80.200      69.600      47.700   \n",
       "28     28.200       54.700             39.900      36.100      32.100   \n",
       "29        NaN    45772.000                NaN         NaN         NaN   \n",
       "\n",
       "    varre-sai   vassouras  volta-redonda  \n",
       "id                                        \n",
       "1   11208.000   37262.000     274925.000  \n",
       "2    9475.000   34410.000     257803.000  \n",
       "3      49.850      63.940       1412.750  \n",
       "4       2.100       2.200          2.100  \n",
       "5    1210.000    8601.000      80394.000  \n",
       "6      10.900      23.200         29.300  \n",
       "7      34.900      34.200         32.700  \n",
       "8      96.800      98.800         98.500  \n",
       "9       5.300       5.200          6.200  \n",
       "10      4.300       4.200          5.000  \n",
       "11   1521.000    4330.000      31825.000  \n",
       "12    424.000    1228.000       9511.000  \n",
       "13    122.000     295.000       1583.000  \n",
       "14     46.000     136.000        862.000  \n",
       "15     15.000      25.000         94.000  \n",
       "16      2.000       7.000         44.000  \n",
       "17  17872.640   29585.010      40355.980  \n",
       "18     83.100      82.500         63.700  \n",
       "19      0.659       0.714          0.771  \n",
       "20  53100.930  137029.580     869283.570  \n",
       "21  42821.870  122405.910     825227.070  \n",
       "22     12.200      12.850         11.930  \n",
       "23      2.200       0.200          0.100  \n",
       "24      5.000      25.000         94.000  \n",
       "25    201.938     536.073        182.105  \n",
       "26     63.300      73.500         96.100  \n",
       "27     76.600      63.200         63.400  \n",
       "28     64.200      32.700         75.100  \n",
       "29        NaN         NaN            NaN  \n",
       "\n",
       "[29 rows x 93 columns]"
      ]
     },
     "execution_count": 15,
     "metadata": {},
     "output_type": "execute_result"
    }
   ],
   "source": [
    "dfIndicadores"
   ]
  }
 ],
 "metadata": {
  "kernelspec": {
   "display_name": "virtual",
   "language": "python",
   "name": "virtual"
  },
  "language_info": {
   "codemirror_mode": {
    "name": "ipython",
    "version": 3
   },
   "file_extension": ".py",
   "mimetype": "text/x-python",
   "name": "python",
   "nbconvert_exporter": "python",
   "pygments_lexer": "ipython3",
   "version": "3.10.4"
  }
 },
 "nbformat": 4,
 "nbformat_minor": 5
}
